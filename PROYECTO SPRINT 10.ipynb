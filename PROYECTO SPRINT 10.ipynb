{
 "cells": [
  {
   "cell_type": "markdown",
   "metadata": {},
   "source": [
    "# Hola Fernando!\n",
    "\n",
    "Mi nombre es Oscar Flores y me toca revisar tu proyecto de hoy. Si tienes algún comentario que quieras agregar en tus respuestas te puedes referir a mi como Oscar, no hay problema que me trates de tú.\n",
    "\n",
    "Si veo un error en la primera revisión solamente lo señalaré y dejaré que tú encuentres de qué se trata y cómo arreglarlo. Debo prepararte para que te desempeñes como especialista en Data, en un trabajo real, el responsable a cargo tuyo hará lo mismo. Si aún tienes dificultades para resolver esta tarea, te daré indicaciones más precisas en una siguiente iteración.\n",
    "\n",
    "Te dejaré mis comentarios más abajo - **por favor, no los muevas, modifiques o borres**\n",
    "\n",
    "Comenzaré mis comentarios con un resumen de los puntos que están bien, aquellos que debes corregir y aquellos que puedes mejorar. Luego deberás revisar todo el notebook para leer mis comentarios, los cuales estarán en rectángulos de color verde, amarillo o rojo como siguen:\n",
    "\n",
    "<div class=\"alert alert-block alert-success\">\n",
    "<b>Comentario de Reviewer</b> <a class=\"tocSkip\"></a>\n",
    "    \n",
    "Muy bien! Toda la respuesta fue lograda satisfactoriamente.\n",
    "</div>\n",
    "\n",
    "<div class=\"alert alert-block alert-warning\">\n",
    "<b>Comentario de Reviewer</b> <a class=\"tocSkip\"></a>\n",
    "\n",
    "Existen detalles a mejorar. Existen recomendaciones.\n",
    "</div>\n",
    "\n",
    "<div class=\"alert alert-block alert-danger\">\n",
    "\n",
    "<b>Comentario de Reviewer</b> <a class=\"tocSkip\"></a>\n",
    "\n",
    "Se necesitan correcciones en el bloque. El trabajo no puede ser aceptado con comentarios en rojo sin solucionar.\n",
    "</div>\n",
    "\n",
    "Cualquier comentario que quieras agregar entre iteraciones de revisión lo puedes hacer de la siguiente manera:\n",
    "\n",
    "<div class=\"alert alert-block alert-info\">\n",
    "<b>Respuesta estudiante.</b> <a class=\"tocSkip\"></a>\n",
    "</div>\n"
   ]
  },
  {
   "cell_type": "markdown",
   "metadata": {},
   "source": [
    "## Resumen de la revisión 1 <a class=\"tocSkip\"></a>"
   ]
  },
  {
   "cell_type": "markdown",
   "metadata": {},
   "source": [
    "<div class=\"alert alert-block alert-warning\">\n",
    "<b>Comentario de Reviewer</b> <a class=\"tocSkip\"></a>\n",
    "\n",
    "Hola! En la parte inicial hay un problema con las imputaciones, al parecer modifican demasiado la distribuciones de las variables donde sea imputa, si quieres imputar valores en esas columnas revisa antes las distribuciones para ver si vale la pena imputar. Te dejé comentarios acerca de esta y otras correcciones de la parte inicial. Una vez corregida la parte inicial, seguiré revisando lo demás.\n",
    "    \n",
    "Saludos!\n",
    "</div>"
   ]
  },
  {
   "cell_type": "markdown",
   "metadata": {},
   "source": [
    "## Resumen de la revisión 2 <a class=\"tocSkip\"></a>"
   ]
  },
  {
   "cell_type": "markdown",
   "metadata": {},
   "source": [
    "<div class=\"alert alert-block alert-warning\">\n",
    "<b>Comentario de Reviewer v2</b> <a class=\"tocSkip\"></a>\n",
    "\n",
    "Buen trabajo! Se observa que el cambio en la imputación mejoró el error MAE, sin embargo, no me di cuenta y el principal error está en que la fórmula utiliza un término incorrecto, corrigiendo eso debería mejorar mucho más. Por otro lado, en la parte de los modelos, debes encontrar el mejor modelo con validación cruzada y el score smape, dejé instrucciones detalladas en esa parte. Además, ese mejor modelo es el que debe ser utilizado para el test final.\n",
    "    \n",
    "Saludos!\n",
    "</div>"
   ]
  },
  {
   "cell_type": "markdown",
   "metadata": {},
   "source": [
    "## Resumen de la revisión 3 <a class=\"tocSkip\"></a>"
   ]
  },
  {
   "cell_type": "markdown",
   "metadata": {},
   "source": [
    "<div class=\"alert alert-block alert-warning\">\n",
    "<b>Comentario de Reviewer v3</b> <a class=\"tocSkip\"></a>\n",
    "\n",
    "Hola! Bien con la implementación del scorer modificado, pero aún faltan corregir algunas cosas. Principalmente los modelos que escogiste no funcionan con estos datos pues están diseñados para data discreta, te indique cuáles debes usar. Además, puse un ejemplo de como generar uno de los modelos con la metodología de validación cruzada. Dejé un par de detalles escritos en rojo para esta revisión (v3) que te pueden orientar a cómo utilizar validación cruzada. \n",
    "    \n",
    "Saludos!\n",
    "</div>"
   ]
  },
  {
   "cell_type": "markdown",
   "metadata": {},
   "source": [
    "## Resumen de la revisión 4 <a class=\"tocSkip\"></a>"
   ]
  },
  {
   "cell_type": "markdown",
   "metadata": {},
   "source": [
    "<div class=\"alert alert-block alert-success\">\n",
    "<b>Comentario de Reviewer v4</b> <a class=\"tocSkip\"></a>\n",
    "\n",
    "Muy bien! Ahora está todo corregido y tu proyect está aprobado.\n",
    "    \n",
    "Saludos!    \n",
    "</div>"
   ]
  },
  {
   "cell_type": "markdown",
   "metadata": {},
   "source": [
    "----"
   ]
  },
  {
   "cell_type": "markdown",
   "metadata": {},
   "source": [
    "#### Introducción"
   ]
  },
  {
   "cell_type": "markdown",
   "metadata": {},
   "source": [
    "La empresa Zyfra desarrolla soluciones de eficiencia para la industria pesada y requieren desarrollar un modelo para predecir la cantidad de oro final extraído del mineral en bruto de oro."
   ]
  },
  {
   "cell_type": "code",
   "execution_count": 121,
   "metadata": {},
   "outputs": [],
   "source": [
    "import pandas as pd\n",
    "import numpy as np\n",
    "import math\n",
    "import matplotlib.pyplot as plt\n",
    "from scipy import stats as st\n",
    "from joblib import dump\n",
    "from matplotlib import pyplot\n",
    "import random\n",
    "\n",
    "from sklearn.tree import DecisionTreeClassifier\n",
    "from sklearn.ensemble import RandomForestClassifier\n",
    "from sklearn.linear_model import LogisticRegression\n",
    "from sklearn.linear_model import LinearRegression\n",
    "from sklearn.ensemble import RandomForestRegressor\n",
    "from sklearn.tree import DecisionTreeRegressor\n",
    "\n",
    "from sklearn.model_selection import train_test_split\n",
    "from sklearn.metrics import mean_squared_error\n",
    "from sklearn.metrics import confusion_matrix\n",
    "from sklearn.metrics import accuracy_score\n",
    "from sklearn.metrics import recall_score\n",
    "from sklearn.metrics import precision_score\n",
    "from sklearn.metrics import f1_score\n",
    "from sklearn.metrics import classification_report\n",
    "from sklearn.metrics import mean_absolute_error\n",
    "from sklearn.metrics import r2_score\n",
    "from sklearn.metrics import roc_curve\n",
    "from sklearn.preprocessing import OrdinalEncoder\n",
    "from sklearn.utils import shuffle\n",
    "from sklearn.metrics import roc_auc_score\n",
    "from sklearn.model_selection import cross_val_score"
   ]
  },
  {
   "cell_type": "code",
   "execution_count": 122,
   "metadata": {},
   "outputs": [],
   "source": [
    "from sklearn import preprocessing as pre\n",
    "from sklearn import pipeline as pip\n",
    "from sklearn import compose as cmp\n",
    "from sklearn import impute as imp\n",
    "from sklearn import model_selection as mod\n",
    "from sklearn import metrics as met\n",
    "from sklearn.metrics import fbeta_score, make_scorer\n",
    "from sklearn.model_selection import GridSearchCV\n",
    "from sklearn.svm import LinearSVC"
   ]
  },
  {
   "cell_type": "code",
   "execution_count": 123,
   "metadata": {},
   "outputs": [],
   "source": [
    "data_train = pd.read_csv('/datasets/gold_recovery_train.csv')\n",
    "data_test = pd.read_csv('/datasets/gold_recovery_test.csv') \n",
    "data_full = pd.read_csv('/datasets/gold_recovery_full.csv')"
   ]
  },
  {
   "cell_type": "markdown",
   "metadata": {},
   "source": [
    "#### Preprocesamiento de datos"
   ]
  },
  {
   "cell_type": "markdown",
   "metadata": {},
   "source": [
    "##### Datos de entrenamiento"
   ]
  },
  {
   "cell_type": "code",
   "execution_count": 124,
   "metadata": {
    "scrolled": true
   },
   "outputs": [
    {
     "name": "stdout",
     "output_type": "stream",
     "text": [
      "<class 'pandas.core.frame.DataFrame'>\n",
      "RangeIndex: 16860 entries, 0 to 16859\n",
      "Data columns (total 87 columns):\n",
      " #   Column                                              Non-Null Count  Dtype  \n",
      "---  ------                                              --------------  -----  \n",
      " 0   date                                                16860 non-null  object \n",
      " 1   final.output.concentrate_ag                         16788 non-null  float64\n",
      " 2   final.output.concentrate_pb                         16788 non-null  float64\n",
      " 3   final.output.concentrate_sol                        16490 non-null  float64\n",
      " 4   final.output.concentrate_au                         16789 non-null  float64\n",
      " 5   final.output.recovery                               15339 non-null  float64\n",
      " 6   final.output.tail_ag                                16794 non-null  float64\n",
      " 7   final.output.tail_pb                                16677 non-null  float64\n",
      " 8   final.output.tail_sol                               16715 non-null  float64\n",
      " 9   final.output.tail_au                                16794 non-null  float64\n",
      " 10  primary_cleaner.input.sulfate                       15553 non-null  float64\n",
      " 11  primary_cleaner.input.depressant                    15598 non-null  float64\n",
      " 12  primary_cleaner.input.feed_size                     16860 non-null  float64\n",
      " 13  primary_cleaner.input.xanthate                      15875 non-null  float64\n",
      " 14  primary_cleaner.output.concentrate_ag               16778 non-null  float64\n",
      " 15  primary_cleaner.output.concentrate_pb               16502 non-null  float64\n",
      " 16  primary_cleaner.output.concentrate_sol              16224 non-null  float64\n",
      " 17  primary_cleaner.output.concentrate_au               16778 non-null  float64\n",
      " 18  primary_cleaner.output.tail_ag                      16777 non-null  float64\n",
      " 19  primary_cleaner.output.tail_pb                      16761 non-null  float64\n",
      " 20  primary_cleaner.output.tail_sol                     16579 non-null  float64\n",
      " 21  primary_cleaner.output.tail_au                      16777 non-null  float64\n",
      " 22  primary_cleaner.state.floatbank8_a_air              16820 non-null  float64\n",
      " 23  primary_cleaner.state.floatbank8_a_level            16827 non-null  float64\n",
      " 24  primary_cleaner.state.floatbank8_b_air              16820 non-null  float64\n",
      " 25  primary_cleaner.state.floatbank8_b_level            16833 non-null  float64\n",
      " 26  primary_cleaner.state.floatbank8_c_air              16822 non-null  float64\n",
      " 27  primary_cleaner.state.floatbank8_c_level            16833 non-null  float64\n",
      " 28  primary_cleaner.state.floatbank8_d_air              16821 non-null  float64\n",
      " 29  primary_cleaner.state.floatbank8_d_level            16833 non-null  float64\n",
      " 30  rougher.calculation.sulfate_to_au_concentrate       16833 non-null  float64\n",
      " 31  rougher.calculation.floatbank10_sulfate_to_au_feed  16833 non-null  float64\n",
      " 32  rougher.calculation.floatbank11_sulfate_to_au_feed  16833 non-null  float64\n",
      " 33  rougher.calculation.au_pb_ratio                     15618 non-null  float64\n",
      " 34  rougher.input.feed_ag                               16778 non-null  float64\n",
      " 35  rougher.input.feed_pb                               16632 non-null  float64\n",
      " 36  rougher.input.feed_rate                             16347 non-null  float64\n",
      " 37  rougher.input.feed_size                             16443 non-null  float64\n",
      " 38  rougher.input.feed_sol                              16568 non-null  float64\n",
      " 39  rougher.input.feed_au                               16777 non-null  float64\n",
      " 40  rougher.input.floatbank10_sulfate                   15816 non-null  float64\n",
      " 41  rougher.input.floatbank10_xanthate                  16514 non-null  float64\n",
      " 42  rougher.input.floatbank11_sulfate                   16237 non-null  float64\n",
      " 43  rougher.input.floatbank11_xanthate                  14956 non-null  float64\n",
      " 44  rougher.output.concentrate_ag                       16778 non-null  float64\n",
      " 45  rougher.output.concentrate_pb                       16778 non-null  float64\n",
      " 46  rougher.output.concentrate_sol                      16698 non-null  float64\n",
      " 47  rougher.output.concentrate_au                       16778 non-null  float64\n",
      " 48  rougher.output.recovery                             14287 non-null  float64\n",
      " 49  rougher.output.tail_ag                              14610 non-null  float64\n",
      " 50  rougher.output.tail_pb                              16778 non-null  float64\n",
      " 51  rougher.output.tail_sol                             14611 non-null  float64\n",
      " 52  rougher.output.tail_au                              14611 non-null  float64\n",
      " 53  rougher.state.floatbank10_a_air                     16807 non-null  float64\n",
      " 54  rougher.state.floatbank10_a_level                   16807 non-null  float64\n",
      " 55  rougher.state.floatbank10_b_air                     16807 non-null  float64\n",
      " 56  rougher.state.floatbank10_b_level                   16807 non-null  float64\n",
      " 57  rougher.state.floatbank10_c_air                     16807 non-null  float64\n",
      " 58  rougher.state.floatbank10_c_level                   16814 non-null  float64\n",
      " 59  rougher.state.floatbank10_d_air                     16802 non-null  float64\n",
      " 60  rougher.state.floatbank10_d_level                   16809 non-null  float64\n",
      " 61  rougher.state.floatbank10_e_air                     16257 non-null  float64\n",
      " 62  rougher.state.floatbank10_e_level                   16809 non-null  float64\n",
      " 63  rougher.state.floatbank10_f_air                     16802 non-null  float64\n",
      " 64  rougher.state.floatbank10_f_level                   16802 non-null  float64\n",
      " 65  secondary_cleaner.output.tail_ag                    16776 non-null  float64\n",
      " 66  secondary_cleaner.output.tail_pb                    16764 non-null  float64\n",
      " 67  secondary_cleaner.output.tail_sol                   14874 non-null  float64\n",
      " 68  secondary_cleaner.output.tail_au                    16778 non-null  float64\n",
      " 69  secondary_cleaner.state.floatbank2_a_air            16497 non-null  float64\n",
      " 70  secondary_cleaner.state.floatbank2_a_level          16751 non-null  float64\n",
      " 71  secondary_cleaner.state.floatbank2_b_air            16705 non-null  float64\n",
      " 72  secondary_cleaner.state.floatbank2_b_level          16748 non-null  float64\n",
      " 73  secondary_cleaner.state.floatbank3_a_air            16763 non-null  float64\n",
      " 74  secondary_cleaner.state.floatbank3_a_level          16747 non-null  float64\n",
      " 75  secondary_cleaner.state.floatbank3_b_air            16752 non-null  float64\n",
      " 76  secondary_cleaner.state.floatbank3_b_level          16750 non-null  float64\n",
      " 77  secondary_cleaner.state.floatbank4_a_air            16731 non-null  float64\n",
      " 78  secondary_cleaner.state.floatbank4_a_level          16747 non-null  float64\n",
      " 79  secondary_cleaner.state.floatbank4_b_air            16768 non-null  float64\n",
      " 80  secondary_cleaner.state.floatbank4_b_level          16767 non-null  float64\n",
      " 81  secondary_cleaner.state.floatbank5_a_air            16775 non-null  float64\n",
      " 82  secondary_cleaner.state.floatbank5_a_level          16775 non-null  float64\n",
      " 83  secondary_cleaner.state.floatbank5_b_air            16775 non-null  float64\n",
      " 84  secondary_cleaner.state.floatbank5_b_level          16776 non-null  float64\n",
      " 85  secondary_cleaner.state.floatbank6_a_air            16757 non-null  float64\n",
      " 86  secondary_cleaner.state.floatbank6_a_level          16775 non-null  float64\n",
      "dtypes: float64(86), object(1)\n",
      "memory usage: 11.2+ MB\n"
     ]
    }
   ],
   "source": [
    "data_train.info()"
   ]
  },
  {
   "cell_type": "code",
   "execution_count": 125,
   "metadata": {},
   "outputs": [
    {
     "data": {
      "text/plain": [
       "(16860, 87)"
      ]
     },
     "execution_count": 125,
     "metadata": {},
     "output_type": "execute_result"
    }
   ],
   "source": [
    "data_train.shape"
   ]
  },
  {
   "cell_type": "code",
   "execution_count": 126,
   "metadata": {},
   "outputs": [],
   "source": [
    "data_train['date'] = pd.to_datetime(data_train['date'], format = '%Y-%m-%d %H:%M:%S')"
   ]
  },
  {
   "cell_type": "code",
   "execution_count": 127,
   "metadata": {},
   "outputs": [
    {
     "data": {
      "text/plain": [
       "rougher.output.recovery               2573\n",
       "rougher.output.tail_ag                2250\n",
       "rougher.output.tail_sol               2249\n",
       "rougher.output.tail_au                2249\n",
       "secondary_cleaner.output.tail_sol     1986\n",
       "rougher.input.floatbank11_xanthate    1904\n",
       "final.output.recovery                 1521\n",
       "primary_cleaner.input.sulfate         1307\n",
       "primary_cleaner.input.depressant      1262\n",
       "rougher.calculation.au_pb_ratio       1242\n",
       "dtype: int64"
      ]
     },
     "execution_count": 127,
     "metadata": {},
     "output_type": "execute_result"
    }
   ],
   "source": [
    "data_train.isna().sum().sort_values(ascending=False).head(10)"
   ]
  },
  {
   "cell_type": "code",
   "execution_count": 128,
   "metadata": {},
   "outputs": [],
   "source": [
    "isna_percent_train_before = data_train.isna().sum() / data_train.shape[0]"
   ]
  },
  {
   "cell_type": "code",
   "execution_count": 129,
   "metadata": {},
   "outputs": [
    {
     "data": {
      "text/plain": [
       "rougher.output.recovery               0.152610\n",
       "rougher.output.tail_ag                0.133452\n",
       "rougher.output.tail_sol               0.133393\n",
       "rougher.output.tail_au                0.133393\n",
       "secondary_cleaner.output.tail_sol     0.117794\n",
       "rougher.input.floatbank11_xanthate    0.112930\n",
       "dtype: float64"
      ]
     },
     "execution_count": 129,
     "metadata": {},
     "output_type": "execute_result"
    }
   ],
   "source": [
    "isna_percent_train_before[isna_percent_train_before>=0.10].sort_values(ascending=False)"
   ]
  },
  {
   "cell_type": "markdown",
   "metadata": {},
   "source": [
    "<div class=\"alert alert-block alert-warning\">\n",
    "<b>Comentario de Reviewer</b> <a class=\"tocSkip\"></a>\n",
    "\n",
    "Ok, normalmente reemplazar por la mediana es una muy buena alternativa, sin embargo, antes de imputar los datos se debe por lomenos observar su distribución, para entender qué podríamos ganar o perder al imputar por la media o mediana.\n",
    "</div>"
   ]
  },
  {
   "cell_type": "markdown",
   "metadata": {},
   "source": [
    "<div class=\"alert alert-block alert-info\">\n",
    "<b>Respuesta estudiante.</b> <a class=\"tocSkip\"></a>\n",
    "Ya se ha revisado la distribución de las 6 columnas con mayor número de datos ausentes y he determinado que es mejor eliminar los datos ausentes para evitar concentraciones en las distribuciones utilizando la mediana. A continuación muestro el resultado final de las distribuciones después de eliminar datos ausentes.  \n",
    "    \n",
    "</div>"
   ]
  },
  {
   "cell_type": "code",
   "execution_count": 130,
   "metadata": {},
   "outputs": [],
   "source": [
    "data_train = data_train.dropna()"
   ]
  },
  {
   "cell_type": "code",
   "execution_count": 131,
   "metadata": {},
   "outputs": [
    {
     "data": {
      "text/plain": [
       "date                                 0\n",
       "rougher.state.floatbank10_b_air      0\n",
       "rougher.state.floatbank10_f_air      0\n",
       "rougher.state.floatbank10_e_level    0\n",
       "rougher.state.floatbank10_e_air      0\n",
       "rougher.state.floatbank10_d_level    0\n",
       "rougher.state.floatbank10_d_air      0\n",
       "rougher.state.floatbank10_c_level    0\n",
       "rougher.state.floatbank10_c_air      0\n",
       "rougher.state.floatbank10_b_level    0\n",
       "dtype: int64"
      ]
     },
     "execution_count": 131,
     "metadata": {},
     "output_type": "execute_result"
    }
   ],
   "source": [
    "data_train.isna().sum().sort_values(ascending=False).head(10)"
   ]
  },
  {
   "cell_type": "code",
   "execution_count": 132,
   "metadata": {},
   "outputs": [
    {
     "data": {
      "text/plain": [
       "(11017, 87)"
      ]
     },
     "execution_count": 132,
     "metadata": {},
     "output_type": "execute_result"
    }
   ],
   "source": [
    "data_train.shape"
   ]
  },
  {
   "cell_type": "code",
   "execution_count": 133,
   "metadata": {},
   "outputs": [
    {
     "data": {
      "text/plain": [
       "array([[<AxesSubplot:title={'center':'rougher.output.recovery'}>]],\n",
       "      dtype=object)"
      ]
     },
     "execution_count": 133,
     "metadata": {},
     "output_type": "execute_result"
    },
    {
     "data": {
      "image/png": "[encoded data removed]",
      "text/plain": [
       "<Figure size 432x288 with 1 Axes>"
      ]
     },
     "metadata": {
      "needs_background": "light"
     },
     "output_type": "display_data"
    }
   ],
   "source": [
    "data_train.hist('rougher.output.recovery', bins=50,  alpha=0.5)"
   ]
  },
  {
   "cell_type": "code",
   "execution_count": 134,
   "metadata": {},
   "outputs": [
    {
     "data": {
      "text/plain": [
       "array([[<AxesSubplot:title={'center':'rougher.output.tail_ag'}>]],\n",
       "      dtype=object)"
      ]
     },
     "execution_count": 134,
     "metadata": {},
     "output_type": "execute_result"
    },
    {
     "data": {
      "image/png": "[encoded data removed]",
      "text/plain": [
       "<Figure size 432x288 with 1 Axes>"
      ]
     },
     "metadata": {
      "needs_background": "light"
     },
     "output_type": "display_data"
    }
   ],
   "source": [
    "data_train.hist('rougher.output.tail_ag', bins=50, alpha=0.5)"
   ]
  },
  {
   "cell_type": "code",
   "execution_count": 135,
   "metadata": {},
   "outputs": [
    {
     "data": {
      "text/plain": [
       "array([[<AxesSubplot:title={'center':'rougher.output.tail_sol'}>]],\n",
       "      dtype=object)"
      ]
     },
     "execution_count": 135,
     "metadata": {},
     "output_type": "execute_result"
    },
    {
     "data": {
      "image/png": "[encoded data removed]",
      "text/plain": [
       "<Figure size 432x288 with 1 Axes>"
      ]
     },
     "metadata": {
      "needs_background": "light"
     },
     "output_type": "display_data"
    }
   ],
   "source": [
    "data_train.hist('rougher.output.tail_sol', bins=50, alpha=0.5)"
   ]
  },
  {
   "cell_type": "code",
   "execution_count": 136,
   "metadata": {},
   "outputs": [
    {
     "data": {
      "text/plain": [
       "array([[<AxesSubplot:title={'center':'rougher.output.tail_au'}>]],\n",
       "      dtype=object)"
      ]
     },
     "execution_count": 136,
     "metadata": {},
     "output_type": "execute_result"
    },
    {
     "data": {
      "image/png": "[encoded data removed]",
      "text/plain": [
       "<Figure size 432x288 with 1 Axes>"
      ]
     },
     "metadata": {
      "needs_background": "light"
     },
     "output_type": "display_data"
    }
   ],
   "source": [
    "data_train.hist('rougher.output.tail_au', bins=50, alpha=0.5)"
   ]
  },
  {
   "cell_type": "code",
   "execution_count": 137,
   "metadata": {},
   "outputs": [
    {
     "data": {
      "text/plain": [
       "array([[<AxesSubplot:title={'center':'secondary_cleaner.output.tail_sol'}>]],\n",
       "      dtype=object)"
      ]
     },
     "execution_count": 137,
     "metadata": {},
     "output_type": "execute_result"
    },
    {
     "data": {
      "image/png": "[encoded data removed]",
      "text/plain": [
       "<Figure size 432x288 with 1 Axes>"
      ]
     },
     "metadata": {
      "needs_background": "light"
     },
     "output_type": "display_data"
    }
   ],
   "source": [
    "data_train.hist('secondary_cleaner.output.tail_sol', bins=50, alpha=0.5)"
   ]
  },
  {
   "cell_type": "code",
   "execution_count": 138,
   "metadata": {},
   "outputs": [
    {
     "data": {
      "text/plain": [
       "array([[<AxesSubplot:title={'center':'rougher.input.floatbank11_xanthate'}>]],\n",
       "      dtype=object)"
      ]
     },
     "execution_count": 138,
     "metadata": {},
     "output_type": "execute_result"
    },
    {
     "data": {
      "image/png": "[encoded data removed]",
      "text/plain": [
       "<Figure size 432x288 with 1 Axes>"
      ]
     },
     "metadata": {
      "needs_background": "light"
     },
     "output_type": "display_data"
    }
   ],
   "source": [
    "data_train.hist('rougher.input.floatbank11_xanthate', bins=50, alpha=0.5)"
   ]
  },
  {
   "cell_type": "markdown",
   "metadata": {},
   "source": [
    "<div class=\"alert alert-block alert-success\">\n",
    "<b>Comentario de Reviewer v2</b> <a class=\"tocSkip\"></a>\n",
    "\n",
    "Bien, ahora se observa que no se acumularon tantos datos entorno a un valor. Cuando se tienen datos relacionados a una serie temporal normalmente la imputación por mediana no es buena idea, sino que una imputación de datos cercanos temporalmente o en algunos casos se pueden remover los nulos.\n",
    "</div>"
   ]
  },
  {
   "cell_type": "markdown",
   "metadata": {},
   "source": [
    "##### Datos de prueba"
   ]
  },
  {
   "cell_type": "code",
   "execution_count": 139,
   "metadata": {
    "scrolled": true
   },
   "outputs": [
    {
     "name": "stdout",
     "output_type": "stream",
     "text": [
      "<class 'pandas.core.frame.DataFrame'>\n",
      "RangeIndex: 5856 entries, 0 to 5855\n",
      "Data columns (total 53 columns):\n",
      " #   Column                                      Non-Null Count  Dtype  \n",
      "---  ------                                      --------------  -----  \n",
      " 0   date                                        5856 non-null   object \n",
      " 1   primary_cleaner.input.sulfate               5554 non-null   float64\n",
      " 2   primary_cleaner.input.depressant            5572 non-null   float64\n",
      " 3   primary_cleaner.input.feed_size             5856 non-null   float64\n",
      " 4   primary_cleaner.input.xanthate              5690 non-null   float64\n",
      " 5   primary_cleaner.state.floatbank8_a_air      5840 non-null   float64\n",
      " 6   primary_cleaner.state.floatbank8_a_level    5840 non-null   float64\n",
      " 7   primary_cleaner.state.floatbank8_b_air      5840 non-null   float64\n",
      " 8   primary_cleaner.state.floatbank8_b_level    5840 non-null   float64\n",
      " 9   primary_cleaner.state.floatbank8_c_air      5840 non-null   float64\n",
      " 10  primary_cleaner.state.floatbank8_c_level    5840 non-null   float64\n",
      " 11  primary_cleaner.state.floatbank8_d_air      5840 non-null   float64\n",
      " 12  primary_cleaner.state.floatbank8_d_level    5840 non-null   float64\n",
      " 13  rougher.input.feed_ag                       5840 non-null   float64\n",
      " 14  rougher.input.feed_pb                       5840 non-null   float64\n",
      " 15  rougher.input.feed_rate                     5816 non-null   float64\n",
      " 16  rougher.input.feed_size                     5834 non-null   float64\n",
      " 17  rougher.input.feed_sol                      5789 non-null   float64\n",
      " 18  rougher.input.feed_au                       5840 non-null   float64\n",
      " 19  rougher.input.floatbank10_sulfate           5599 non-null   float64\n",
      " 20  rougher.input.floatbank10_xanthate          5733 non-null   float64\n",
      " 21  rougher.input.floatbank11_sulfate           5801 non-null   float64\n",
      " 22  rougher.input.floatbank11_xanthate          5503 non-null   float64\n",
      " 23  rougher.state.floatbank10_a_air             5839 non-null   float64\n",
      " 24  rougher.state.floatbank10_a_level           5840 non-null   float64\n",
      " 25  rougher.state.floatbank10_b_air             5839 non-null   float64\n",
      " 26  rougher.state.floatbank10_b_level           5840 non-null   float64\n",
      " 27  rougher.state.floatbank10_c_air             5839 non-null   float64\n",
      " 28  rougher.state.floatbank10_c_level           5840 non-null   float64\n",
      " 29  rougher.state.floatbank10_d_air             5839 non-null   float64\n",
      " 30  rougher.state.floatbank10_d_level           5840 non-null   float64\n",
      " 31  rougher.state.floatbank10_e_air             5839 non-null   float64\n",
      " 32  rougher.state.floatbank10_e_level           5840 non-null   float64\n",
      " 33  rougher.state.floatbank10_f_air             5839 non-null   float64\n",
      " 34  rougher.state.floatbank10_f_level           5840 non-null   float64\n",
      " 35  secondary_cleaner.state.floatbank2_a_air    5836 non-null   float64\n",
      " 36  secondary_cleaner.state.floatbank2_a_level  5840 non-null   float64\n",
      " 37  secondary_cleaner.state.floatbank2_b_air    5833 non-null   float64\n",
      " 38  secondary_cleaner.state.floatbank2_b_level  5840 non-null   float64\n",
      " 39  secondary_cleaner.state.floatbank3_a_air    5822 non-null   float64\n",
      " 40  secondary_cleaner.state.floatbank3_a_level  5840 non-null   float64\n",
      " 41  secondary_cleaner.state.floatbank3_b_air    5840 non-null   float64\n",
      " 42  secondary_cleaner.state.floatbank3_b_level  5840 non-null   float64\n",
      " 43  secondary_cleaner.state.floatbank4_a_air    5840 non-null   float64\n",
      " 44  secondary_cleaner.state.floatbank4_a_level  5840 non-null   float64\n",
      " 45  secondary_cleaner.state.floatbank4_b_air    5840 non-null   float64\n",
      " 46  secondary_cleaner.state.floatbank4_b_level  5840 non-null   float64\n",
      " 47  secondary_cleaner.state.floatbank5_a_air    5840 non-null   float64\n",
      " 48  secondary_cleaner.state.floatbank5_a_level  5840 non-null   float64\n",
      " 49  secondary_cleaner.state.floatbank5_b_air    5840 non-null   float64\n",
      " 50  secondary_cleaner.state.floatbank5_b_level  5840 non-null   float64\n",
      " 51  secondary_cleaner.state.floatbank6_a_air    5840 non-null   float64\n",
      " 52  secondary_cleaner.state.floatbank6_a_level  5840 non-null   float64\n",
      "dtypes: float64(52), object(1)\n",
      "memory usage: 2.4+ MB\n"
     ]
    }
   ],
   "source": [
    "data_test.info()"
   ]
  },
  {
   "cell_type": "code",
   "execution_count": 140,
   "metadata": {},
   "outputs": [],
   "source": [
    "data_test['date'] = pd.to_datetime(data_test['date'], format = '%Y-%m-%d')"
   ]
  },
  {
   "cell_type": "code",
   "execution_count": 141,
   "metadata": {},
   "outputs": [
    {
     "data": {
      "text/plain": [
       "(5856, 53)"
      ]
     },
     "execution_count": 141,
     "metadata": {},
     "output_type": "execute_result"
    }
   ],
   "source": [
    "data_test.shape"
   ]
  },
  {
   "cell_type": "code",
   "execution_count": 142,
   "metadata": {},
   "outputs": [
    {
     "data": {
      "text/plain": [
       "rougher.input.floatbank11_xanthate          353\n",
       "primary_cleaner.input.sulfate               302\n",
       "primary_cleaner.input.depressant            284\n",
       "rougher.input.floatbank10_sulfate           257\n",
       "primary_cleaner.input.xanthate              166\n",
       "rougher.input.floatbank10_xanthate          123\n",
       "rougher.input.feed_sol                       67\n",
       "rougher.input.floatbank11_sulfate            55\n",
       "rougher.input.feed_rate                      40\n",
       "secondary_cleaner.state.floatbank3_a_air     34\n",
       "dtype: int64"
      ]
     },
     "execution_count": 142,
     "metadata": {},
     "output_type": "execute_result"
    }
   ],
   "source": [
    "data_test.isna().sum().sort_values(ascending=False).head(10)"
   ]
  },
  {
   "cell_type": "code",
   "execution_count": 143,
   "metadata": {},
   "outputs": [],
   "source": [
    "#isna_percent_test = data_test.isna().sum() / data_test.shape[0]"
   ]
  },
  {
   "cell_type": "code",
   "execution_count": 144,
   "metadata": {},
   "outputs": [],
   "source": [
    "#isna_percent_test[isna_percent_test>=0.10].sort_values(ascending=False)"
   ]
  },
  {
   "cell_type": "code",
   "execution_count": 145,
   "metadata": {},
   "outputs": [],
   "source": [
    "data_test = data_test.dropna()"
   ]
  },
  {
   "cell_type": "code",
   "execution_count": 146,
   "metadata": {},
   "outputs": [
    {
     "data": {
      "text/plain": [
       "(5383, 53)"
      ]
     },
     "execution_count": 146,
     "metadata": {},
     "output_type": "execute_result"
    }
   ],
   "source": [
    "data_test.shape"
   ]
  },
  {
   "cell_type": "markdown",
   "metadata": {},
   "source": [
    "##### Datos completos"
   ]
  },
  {
   "cell_type": "code",
   "execution_count": 147,
   "metadata": {
    "scrolled": true
   },
   "outputs": [
    {
     "name": "stdout",
     "output_type": "stream",
     "text": [
      "<class 'pandas.core.frame.DataFrame'>\n",
      "RangeIndex: 22716 entries, 0 to 22715\n",
      "Data columns (total 87 columns):\n",
      " #   Column                                              Non-Null Count  Dtype  \n",
      "---  ------                                              --------------  -----  \n",
      " 0   date                                                22716 non-null  object \n",
      " 1   final.output.concentrate_ag                         22627 non-null  float64\n",
      " 2   final.output.concentrate_pb                         22629 non-null  float64\n",
      " 3   final.output.concentrate_sol                        22331 non-null  float64\n",
      " 4   final.output.concentrate_au                         22630 non-null  float64\n",
      " 5   final.output.recovery                               20753 non-null  float64\n",
      " 6   final.output.tail_ag                                22633 non-null  float64\n",
      " 7   final.output.tail_pb                                22516 non-null  float64\n",
      " 8   final.output.tail_sol                               22445 non-null  float64\n",
      " 9   final.output.tail_au                                22635 non-null  float64\n",
      " 10  primary_cleaner.input.sulfate                       21107 non-null  float64\n",
      " 11  primary_cleaner.input.depressant                    21170 non-null  float64\n",
      " 12  primary_cleaner.input.feed_size                     22716 non-null  float64\n",
      " 13  primary_cleaner.input.xanthate                      21565 non-null  float64\n",
      " 14  primary_cleaner.output.concentrate_ag               22618 non-null  float64\n",
      " 15  primary_cleaner.output.concentrate_pb               22268 non-null  float64\n",
      " 16  primary_cleaner.output.concentrate_sol              21918 non-null  float64\n",
      " 17  primary_cleaner.output.concentrate_au               22618 non-null  float64\n",
      " 18  primary_cleaner.output.tail_ag                      22614 non-null  float64\n",
      " 19  primary_cleaner.output.tail_pb                      22594 non-null  float64\n",
      " 20  primary_cleaner.output.tail_sol                     22365 non-null  float64\n",
      " 21  primary_cleaner.output.tail_au                      22617 non-null  float64\n",
      " 22  primary_cleaner.state.floatbank8_a_air              22660 non-null  float64\n",
      " 23  primary_cleaner.state.floatbank8_a_level            22667 non-null  float64\n",
      " 24  primary_cleaner.state.floatbank8_b_air              22660 non-null  float64\n",
      " 25  primary_cleaner.state.floatbank8_b_level            22673 non-null  float64\n",
      " 26  primary_cleaner.state.floatbank8_c_air              22662 non-null  float64\n",
      " 27  primary_cleaner.state.floatbank8_c_level            22673 non-null  float64\n",
      " 28  primary_cleaner.state.floatbank8_d_air              22661 non-null  float64\n",
      " 29  primary_cleaner.state.floatbank8_d_level            22673 non-null  float64\n",
      " 30  rougher.calculation.sulfate_to_au_concentrate       22672 non-null  float64\n",
      " 31  rougher.calculation.floatbank10_sulfate_to_au_feed  22672 non-null  float64\n",
      " 32  rougher.calculation.floatbank11_sulfate_to_au_feed  22672 non-null  float64\n",
      " 33  rougher.calculation.au_pb_ratio                     21089 non-null  float64\n",
      " 34  rougher.input.feed_ag                               22618 non-null  float64\n",
      " 35  rougher.input.feed_pb                               22472 non-null  float64\n",
      " 36  rougher.input.feed_rate                             22163 non-null  float64\n",
      " 37  rougher.input.feed_size                             22277 non-null  float64\n",
      " 38  rougher.input.feed_sol                              22357 non-null  float64\n",
      " 39  rougher.input.feed_au                               22617 non-null  float64\n",
      " 40  rougher.input.floatbank10_sulfate                   21415 non-null  float64\n",
      " 41  rougher.input.floatbank10_xanthate                  22247 non-null  float64\n",
      " 42  rougher.input.floatbank11_sulfate                   22038 non-null  float64\n",
      " 43  rougher.input.floatbank11_xanthate                  20459 non-null  float64\n",
      " 44  rougher.output.concentrate_ag                       22618 non-null  float64\n",
      " 45  rougher.output.concentrate_pb                       22618 non-null  float64\n",
      " 46  rougher.output.concentrate_sol                      22526 non-null  float64\n",
      " 47  rougher.output.concentrate_au                       22618 non-null  float64\n",
      " 48  rougher.output.recovery                             19597 non-null  float64\n",
      " 49  rougher.output.tail_ag                              19979 non-null  float64\n",
      " 50  rougher.output.tail_pb                              22618 non-null  float64\n",
      " 51  rougher.output.tail_sol                             19980 non-null  float64\n",
      " 52  rougher.output.tail_au                              19980 non-null  float64\n",
      " 53  rougher.state.floatbank10_a_air                     22646 non-null  float64\n",
      " 54  rougher.state.floatbank10_a_level                   22647 non-null  float64\n",
      " 55  rougher.state.floatbank10_b_air                     22646 non-null  float64\n",
      " 56  rougher.state.floatbank10_b_level                   22647 non-null  float64\n",
      " 57  rougher.state.floatbank10_c_air                     22646 non-null  float64\n",
      " 58  rougher.state.floatbank10_c_level                   22654 non-null  float64\n",
      " 59  rougher.state.floatbank10_d_air                     22641 non-null  float64\n",
      " 60  rougher.state.floatbank10_d_level                   22649 non-null  float64\n",
      " 61  rougher.state.floatbank10_e_air                     22096 non-null  float64\n",
      " 62  rougher.state.floatbank10_e_level                   22649 non-null  float64\n",
      " 63  rougher.state.floatbank10_f_air                     22641 non-null  float64\n",
      " 64  rougher.state.floatbank10_f_level                   22642 non-null  float64\n",
      " 65  secondary_cleaner.output.tail_ag                    22616 non-null  float64\n",
      " 66  secondary_cleaner.output.tail_pb                    22600 non-null  float64\n",
      " 67  secondary_cleaner.output.tail_sol                   20501 non-null  float64\n",
      " 68  secondary_cleaner.output.tail_au                    22618 non-null  float64\n",
      " 69  secondary_cleaner.state.floatbank2_a_air            22333 non-null  float64\n",
      " 70  secondary_cleaner.state.floatbank2_a_level          22591 non-null  float64\n",
      " 71  secondary_cleaner.state.floatbank2_b_air            22538 non-null  float64\n",
      " 72  secondary_cleaner.state.floatbank2_b_level          22588 non-null  float64\n",
      " 73  secondary_cleaner.state.floatbank3_a_air            22585 non-null  float64\n",
      " 74  secondary_cleaner.state.floatbank3_a_level          22587 non-null  float64\n",
      " 75  secondary_cleaner.state.floatbank3_b_air            22592 non-null  float64\n",
      " 76  secondary_cleaner.state.floatbank3_b_level          22590 non-null  float64\n",
      " 77  secondary_cleaner.state.floatbank4_a_air            22571 non-null  float64\n",
      " 78  secondary_cleaner.state.floatbank4_a_level          22587 non-null  float64\n",
      " 79  secondary_cleaner.state.floatbank4_b_air            22608 non-null  float64\n",
      " 80  secondary_cleaner.state.floatbank4_b_level          22607 non-null  float64\n",
      " 81  secondary_cleaner.state.floatbank5_a_air            22615 non-null  float64\n",
      " 82  secondary_cleaner.state.floatbank5_a_level          22615 non-null  float64\n",
      " 83  secondary_cleaner.state.floatbank5_b_air            22615 non-null  float64\n",
      " 84  secondary_cleaner.state.floatbank5_b_level          22616 non-null  float64\n",
      " 85  secondary_cleaner.state.floatbank6_a_air            22597 non-null  float64\n",
      " 86  secondary_cleaner.state.floatbank6_a_level          22615 non-null  float64\n",
      "dtypes: float64(86), object(1)\n",
      "memory usage: 15.1+ MB\n"
     ]
    }
   ],
   "source": [
    "data_full.info()"
   ]
  },
  {
   "cell_type": "code",
   "execution_count": 148,
   "metadata": {},
   "outputs": [],
   "source": [
    "data_full['date'] = pd.to_datetime(data_full['date'], format = '%Y-%m-%d')"
   ]
  },
  {
   "cell_type": "code",
   "execution_count": 149,
   "metadata": {},
   "outputs": [
    {
     "data": {
      "text/plain": [
       "(22716, 87)"
      ]
     },
     "execution_count": 149,
     "metadata": {},
     "output_type": "execute_result"
    }
   ],
   "source": [
    "data_full.shape"
   ]
  },
  {
   "cell_type": "code",
   "execution_count": 150,
   "metadata": {},
   "outputs": [
    {
     "data": {
      "text/plain": [
       "rougher.output.recovery               3119\n",
       "rougher.output.tail_ag                2737\n",
       "rougher.output.tail_au                2736\n",
       "rougher.output.tail_sol               2736\n",
       "rougher.input.floatbank11_xanthate    2257\n",
       "secondary_cleaner.output.tail_sol     2215\n",
       "final.output.recovery                 1963\n",
       "rougher.calculation.au_pb_ratio       1627\n",
       "primary_cleaner.input.sulfate         1609\n",
       "primary_cleaner.input.depressant      1546\n",
       "dtype: int64"
      ]
     },
     "execution_count": 150,
     "metadata": {},
     "output_type": "execute_result"
    }
   ],
   "source": [
    "data_full.isna().sum().sort_values(ascending=False).head(10)"
   ]
  },
  {
   "cell_type": "code",
   "execution_count": 151,
   "metadata": {},
   "outputs": [],
   "source": [
    "isna_percent_full = data_full.isna().sum() / data_full.shape[0]"
   ]
  },
  {
   "cell_type": "code",
   "execution_count": 152,
   "metadata": {},
   "outputs": [
    {
     "data": {
      "text/plain": [
       "rougher.output.recovery    0.137304\n",
       "rougher.output.tail_ag     0.120488\n",
       "rougher.output.tail_sol    0.120444\n",
       "rougher.output.tail_au     0.120444\n",
       "dtype: float64"
      ]
     },
     "execution_count": 152,
     "metadata": {},
     "output_type": "execute_result"
    }
   ],
   "source": [
    "isna_percent_full[isna_percent_full>=0.10].sort_values(ascending=False)"
   ]
  },
  {
   "cell_type": "markdown",
   "metadata": {},
   "source": [
    "<div class=\"alert alert-block alert-warning\">\n",
    "<b>Comentario de Reviewer</b> <a class=\"tocSkip\"></a>\n",
    "\n",
    "Mismo comentario anterior, deberíamos revisar las distribuciones antes de imputar todo.\n",
    "</div>"
   ]
  },
  {
   "cell_type": "markdown",
   "metadata": {},
   "source": [
    "<div class=\"alert alert-block alert-info\">\n",
    "<b>Respuesta estudiante.</b> <a class=\"tocSkip\"></a>\n",
    "Ya se ha revisado la distribución de las 4 columnas con mayor número de datos ausentes y he determinado que es mejor eliminar los datos ausentes para evitar concentraciones en las distribuciones utilizando la mediana. A continuación muestro el resultado final de las distribuciones después de eliminar datos ausentes.  \n",
    "    \n",
    "</div>"
   ]
  },
  {
   "cell_type": "code",
   "execution_count": 153,
   "metadata": {},
   "outputs": [],
   "source": [
    "data_full = data_full.dropna()"
   ]
  },
  {
   "cell_type": "code",
   "execution_count": 154,
   "metadata": {
    "scrolled": true
   },
   "outputs": [
    {
     "data": {
      "text/plain": [
       "date                                 0\n",
       "rougher.state.floatbank10_b_air      0\n",
       "rougher.state.floatbank10_f_air      0\n",
       "rougher.state.floatbank10_e_level    0\n",
       "rougher.state.floatbank10_e_air      0\n",
       "rougher.state.floatbank10_d_level    0\n",
       "rougher.state.floatbank10_d_air      0\n",
       "rougher.state.floatbank10_c_level    0\n",
       "rougher.state.floatbank10_c_air      0\n",
       "rougher.state.floatbank10_b_level    0\n",
       "dtype: int64"
      ]
     },
     "execution_count": 154,
     "metadata": {},
     "output_type": "execute_result"
    }
   ],
   "source": [
    "data_full.isna().sum().sort_values(ascending=False).head(10)"
   ]
  },
  {
   "cell_type": "code",
   "execution_count": 155,
   "metadata": {},
   "outputs": [
    {
     "data": {
      "text/plain": [
       "array([[<AxesSubplot:title={'center':'rougher.output.recovery'}>]],\n",
       "      dtype=object)"
      ]
     },
     "execution_count": 155,
     "metadata": {},
     "output_type": "execute_result"
    },
    {
     "data": {
      "image/png": "[encoded data removed]",
      "text/plain": [
       "<Figure size 432x288 with 1 Axes>"
      ]
     },
     "metadata": {
      "needs_background": "light"
     },
     "output_type": "display_data"
    }
   ],
   "source": [
    "data_train.hist('rougher.output.recovery', bins=50, alpha=0.5)"
   ]
  },
  {
   "cell_type": "code",
   "execution_count": 156,
   "metadata": {},
   "outputs": [
    {
     "data": {
      "text/plain": [
       "array([[<AxesSubplot:title={'center':'rougher.output.tail_ag'}>]],\n",
       "      dtype=object)"
      ]
     },
     "execution_count": 156,
     "metadata": {},
     "output_type": "execute_result"
    },
    {
     "data": {
      "image/png": "[encoded data removed]",
      "text/plain": [
       "<Figure size 432x288 with 1 Axes>"
      ]
     },
     "metadata": {
      "needs_background": "light"
     },
     "output_type": "display_data"
    }
   ],
   "source": [
    "data_train.hist('rougher.output.tail_ag', bins=50, alpha=0.5)"
   ]
  },
  {
   "cell_type": "code",
   "execution_count": 157,
   "metadata": {},
   "outputs": [
    {
     "data": {
      "text/plain": [
       "array([[<AxesSubplot:title={'center':'rougher.output.tail_sol'}>]],\n",
       "      dtype=object)"
      ]
     },
     "execution_count": 157,
     "metadata": {},
     "output_type": "execute_result"
    },
    {
     "data": {
      "image/png": "[encoded data removed]",
      "text/plain": [
       "<Figure size 432x288 with 1 Axes>"
      ]
     },
     "metadata": {
      "needs_background": "light"
     },
     "output_type": "display_data"
    }
   ],
   "source": [
    "data_train.hist('rougher.output.tail_sol', bins=50, alpha=0.5)"
   ]
  },
  {
   "cell_type": "code",
   "execution_count": 158,
   "metadata": {},
   "outputs": [
    {
     "data": {
      "text/plain": [
       "array([[<AxesSubplot:title={'center':'rougher.output.tail_au'}>]],\n",
       "      dtype=object)"
      ]
     },
     "execution_count": 158,
     "metadata": {},
     "output_type": "execute_result"
    },
    {
     "data": {
      "image/png": "[encoded data removed]",
      "text/plain": [
       "<Figure size 432x288 with 1 Axes>"
      ]
     },
     "metadata": {
      "needs_background": "light"
     },
     "output_type": "display_data"
    }
   ],
   "source": [
    "data_train.hist('rougher.output.tail_au', bins=50, alpha=0.5)"
   ]
  },
  {
   "cell_type": "code",
   "execution_count": 159,
   "metadata": {},
   "outputs": [
    {
     "data": {
      "text/plain": [
       "(16094, 87)"
      ]
     },
     "execution_count": 159,
     "metadata": {},
     "output_type": "execute_result"
    }
   ],
   "source": [
    "data_full.shape"
   ]
  },
  {
   "cell_type": "markdown",
   "metadata": {},
   "source": [
    "##### Cálculo de la recuperación"
   ]
  },
  {
   "cell_type": "code",
   "execution_count": 160,
   "metadata": {},
   "outputs": [],
   "source": [
    "R_target = data_train['rougher.output.recovery']"
   ]
  },
  {
   "cell_type": "code",
   "execution_count": 161,
   "metadata": {},
   "outputs": [],
   "source": [
    "C = data_train['rougher.output.concentrate_au'] #/ data_train['final.output.concentrate_au']\n",
    "F = data_train['rougher.input.feed_au'] #/ data_train['rougher.output.concentrate_au']\n",
    "T = data_train['rougher.output.tail_au'] #/ data_train['final.output.concentrate_au']"
   ]
  },
  {
   "cell_type": "code",
   "execution_count": 162,
   "metadata": {},
   "outputs": [],
   "source": [
    "A = C * (F-T)"
   ]
  },
  {
   "cell_type": "code",
   "execution_count": 163,
   "metadata": {},
   "outputs": [],
   "source": [
    "B = F* (C-T)"
   ]
  },
  {
   "cell_type": "code",
   "execution_count": 164,
   "metadata": {},
   "outputs": [],
   "source": [
    "R_predicted = A/B * 100"
   ]
  },
  {
   "cell_type": "markdown",
   "metadata": {},
   "source": [
    "<div class=\"alert alert-block alert-success\">\n",
    "<b>Comentario de Reviewer</b> <a class=\"tocSkip\"></a>\n",
    "\n",
    "Ok, la fórmula está bien, aunque se podría simplificar, no es necesario que ninguno esté dividido por final.output.concentrate_au\n",
    "</div>"
   ]
  },
  {
   "cell_type": "markdown",
   "metadata": {},
   "source": [
    "<div class=\"alert alert-block alert-info\">\n",
    "<b>Respuesta estudiante.</b> <a class=\"tocSkip\"></a>\n",
    "He eliminado el denominador de las tres variables que conforman la variable de predicción como se ha solicitado. \n",
    "    \n",
    "</div>"
   ]
  },
  {
   "cell_type": "markdown",
   "metadata": {},
   "source": [
    "<div class=\"alert alert-block alert-danger\">\n",
    "<b>Comentario de Reviewer v2</b> <a class=\"tocSkip\"></a>\n",
    "\n",
    "En la revisión anterior no me di cuenta, pero el tercer término es incorrecto, debe ser rougher.output.tail_au, por esto es que la fórmula no genera un MAE correcto.\n",
    "</div>"
   ]
  },
  {
   "cell_type": "code",
   "execution_count": 165,
   "metadata": {},
   "outputs": [],
   "source": [
    "R_target = R_target.reset_index(drop=True)\n",
    "R_predicted = R_predicted.reset_index(drop=True)"
   ]
  },
  {
   "cell_type": "code",
   "execution_count": 166,
   "metadata": {},
   "outputs": [
    {
     "data": {
      "text/plain": [
       "0    87.107763\n",
       "1    86.843261\n",
       "2    86.842308\n",
       "3    87.226430\n",
       "4    86.688794\n",
       "Name: rougher.output.recovery, dtype: float64"
      ]
     },
     "execution_count": 166,
     "metadata": {},
     "output_type": "execute_result"
    }
   ],
   "source": [
    "R_target.head()"
   ]
  },
  {
   "cell_type": "code",
   "execution_count": 167,
   "metadata": {},
   "outputs": [
    {
     "data": {
      "text/plain": [
       "0    87.107763\n",
       "1    86.843261\n",
       "2    86.842308\n",
       "3    87.226430\n",
       "4    86.688794\n",
       "dtype: float64"
      ]
     },
     "execution_count": 167,
     "metadata": {},
     "output_type": "execute_result"
    }
   ],
   "source": [
    "R_predicted.head()"
   ]
  },
  {
   "cell_type": "code",
   "execution_count": 168,
   "metadata": {},
   "outputs": [],
   "source": [
    "def mae(target, prediction):\n",
    "    error = 0\n",
    "    for i in range(target.shape[0]):\n",
    "        error += abs(target[i] - prediction[i])\n",
    "    return error / target.shape[0]"
   ]
  },
  {
   "cell_type": "code",
   "execution_count": 169,
   "metadata": {
    "scrolled": true
   },
   "outputs": [
    {
     "data": {
      "text/plain": [
       "0.0"
      ]
     },
     "execution_count": 169,
     "metadata": {},
     "output_type": "execute_result"
    }
   ],
   "source": [
    "round(mae(R_target, R_predicted),2)"
   ]
  },
  {
   "cell_type": "markdown",
   "metadata": {},
   "source": [
    "<div class=\"alert alert-block alert-danger\">\n",
    "<b>Comentario de Reviewer</b> <a class=\"tocSkip\"></a>\n",
    "\n",
    "Esto muestra que la imputación anterior, al usar la mediana, no fue correcta, el error es demasiado grande. Debes revisar esa parte, tal vez lo mejor sea eliminar los valores que tienen nulos. Te recomiendo aplicar la fórmula sobre un dataframe que no tenga nulos en esas columnas, la idea es comprobar que los datos siguen la fórmula (se asume que es correcta, debería dar similar)\n",
    "</div>"
   ]
  },
  {
   "cell_type": "markdown",
   "metadata": {},
   "source": [
    "<div class=\"alert alert-block alert-info\">\n",
    "<b>Respuesta estudiante.</b> <a class=\"tocSkip\"></a>\n",
    "El cálculo de error se ha reducido de 12.49 a 10.98 con la eliminación de datos ausentes. La fórmula se aplica sobre dataframes sin valores nulos.\n",
    "    \n",
    "</div>"
   ]
  },
  {
   "cell_type": "markdown",
   "metadata": {},
   "source": [
    "<div class=\"alert alert-block alert-danger\">\n",
    "<b>Comentario de Reviewer v2</b> <a class=\"tocSkip\"></a>\n",
    "\n",
    "Ok, esto mejora el cálculo, pero la fórmula utilizada se debe arreglar como indiqué más arriba. Con eso corregido el error será mucho menor.\n",
    "</div>"
   ]
  },
  {
   "cell_type": "markdown",
   "metadata": {},
   "source": [
    "<div class=\"alert alert-block alert-success\">\n",
    "<b>Comentario de Reviewer v3</b> <a class=\"tocSkip\"></a>\n",
    "\n",
    "Muy bien! Ahora se observa que el mae es practicamente cero.\n",
    "</div>"
   ]
  },
  {
   "cell_type": "markdown",
   "metadata": {},
   "source": [
    "#### Análisis de los datos"
   ]
  },
  {
   "cell_type": "markdown",
   "metadata": {},
   "source": [
    "##### Distribución de tamaño de partículas por etapas"
   ]
  },
  {
   "cell_type": "code",
   "execution_count": 170,
   "metadata": {},
   "outputs": [],
   "source": [
    "IQR_ag_1 = data_train['rougher.input.feed_ag'].quantile(0.75) - data_train['rougher.input.feed_ag'].quantile(0.25)\n",
    "LIQR_ag_1 = data_train['rougher.input.feed_ag'].quantile(0.25)-1.5*IQR_ag_1\n",
    "UIQR_ag_1 = data_train['rougher.input.feed_ag'].quantile(0.75)+1.5*IQR_ag_1"
   ]
  },
  {
   "cell_type": "code",
   "execution_count": 171,
   "metadata": {},
   "outputs": [],
   "source": [
    "IQR_ag_2 = data_train['rougher.output.concentrate_ag'].quantile(0.75) - data_train['rougher.output.concentrate_ag'].quantile(0.25)\n",
    "LIQR_ag_2 = data_train['rougher.output.concentrate_ag'].quantile(0.25)-1.5*IQR_ag_2\n",
    "UIQR_ag_2 = data_train['rougher.output.concentrate_ag'].quantile(0.75)+1.5*IQR_ag_2"
   ]
  },
  {
   "cell_type": "code",
   "execution_count": 172,
   "metadata": {},
   "outputs": [],
   "source": [
    "IQR_ag_3 = data_train['primary_cleaner.output.concentrate_ag'].quantile(0.75) - data_train['primary_cleaner.output.concentrate_ag'].quantile(0.25)\n",
    "LIQR_ag_3 = data_train['primary_cleaner.output.concentrate_ag'].quantile(0.25)-1.5*IQR_ag_3\n",
    "UIQR_ag_3 = data_train['primary_cleaner.output.concentrate_ag'].quantile(0.75)+1.5*IQR_ag_3"
   ]
  },
  {
   "cell_type": "code",
   "execution_count": 173,
   "metadata": {},
   "outputs": [],
   "source": [
    "IQR_ag_4 = data_train['final.output.concentrate_ag'].quantile(0.75) - data_train['final.output.concentrate_ag'].quantile(0.25)\n",
    "LIQR_ag_4 = data_train['final.output.concentrate_ag'].quantile(0.25)-1.5*IQR_ag_4\n",
    "UIQR_ag_4 = data_train['final.output.concentrate_ag'].quantile(0.75)+1.5*IQR_ag_4"
   ]
  },
  {
   "cell_type": "code",
   "execution_count": 174,
   "metadata": {},
   "outputs": [],
   "source": [
    "df_train = pd.DataFrame()\n",
    "df_train['rougher_input_feed_ag'] = data_train['rougher.input.feed_ag']\n",
    "df_train['rougher_output_concentrate_ag'] = data_train['rougher.output.concentrate_ag']\n",
    "df_train['primary_cleaner_output_concentrate_ag'] = data_train['primary_cleaner.output.concentrate_ag']\n",
    "df_train['final_output_concentrate_ag'] = data_train['final.output.concentrate_ag']"
   ]
  },
  {
   "cell_type": "code",
   "execution_count": 175,
   "metadata": {},
   "outputs": [],
   "source": [
    "df_train = df_train.query('rougher_input_feed_ag > @LIQR_ag_1 and rougher_input_feed_ag < @UIQR_ag_1 and rougher_output_concentrate_ag > @LIQR_ag_2 and rougher_output_concentrate_ag < @UIQR_ag_2 and primary_cleaner_output_concentrate_ag > @LIQR_ag_3 and primary_cleaner_output_concentrate_ag < @UIQR_ag_3 and final_output_concentrate_ag > @LIQR_ag_4 and final_output_concentrate_ag < @UIQR_ag_4')\n",
    "df_train = df_train.reset_index()"
   ]
  },
  {
   "cell_type": "code",
   "execution_count": 176,
   "metadata": {
    "scrolled": true
   },
   "outputs": [
    {
     "data": {
      "text/plain": [
       "<matplotlib.legend.Legend at 0x7f72cb0789d0>"
      ]
     },
     "execution_count": 176,
     "metadata": {},
     "output_type": "execute_result"
    },
    {
     "data": {
      "image/png": "[encoded data removed]",
      "text/plain": [
       "<Figure size 432x288 with 1 Axes>"
      ]
     },
     "metadata": {
      "needs_background": "light"
     },
     "output_type": "display_data"
    }
   ],
   "source": [
    "plt.hist(df_train['rougher_input_feed_ag'], bins=50, alpha=0.5, label=\"rougher input\")\n",
    "plt.hist(df_train['rougher_output_concentrate_ag'], bins=50, alpha=0.5, label=\"rougher output\")\n",
    "plt.hist(df_train['primary_cleaner_output_concentrate_ag'], bins=50, alpha=0.5, label=\"cleaner output\")\n",
    "plt.hist(df_train['final_output_concentrate_ag'], bins=50, alpha=0.5, label=\"final output\")\n",
    "\n",
    "plt.vlines(x=[df_train['rougher_input_feed_ag'].mean()], ymin=0, ymax=1200, colors='blue', ls='--', alpha=0.5)\n",
    "plt.vlines(x=[df_train['rougher_output_concentrate_ag'].mean()], ymin=0, ymax=1200, colors='orange', ls='--', alpha=0.5)\n",
    "plt.vlines(x=[df_train['primary_cleaner_output_concentrate_ag'].mean()], ymin=0, ymax=1200, colors='green', ls='--', alpha=0.5)\n",
    "plt.vlines(x=[df_train['final_output_concentrate_ag'].mean()], ymin=0, ymax=1200, colors='red', ls='--', alpha=0.5)\n",
    "              \n",
    "plt.xlabel(\"Tamaño\", size=14)\n",
    "plt.title(\"Tamaño de partícula de plata por etapa\")\n",
    "plt.legend(loc='upper right')"
   ]
  },
  {
   "cell_type": "markdown",
   "metadata": {},
   "source": [
    "<div class=\"alert alert-block alert-success\">\n",
    "<b>Comentario de Reviewer v2</b> <a class=\"tocSkip\"></a>\n",
    "\n",
    "Correcto, vemos como la plata en general disminuye su concentración a partir de rougher\n",
    "</div>"
   ]
  },
  {
   "cell_type": "code",
   "execution_count": 177,
   "metadata": {},
   "outputs": [
    {
     "name": "stdout",
     "output_type": "stream",
     "text": [
      "8.759510999274974\n",
      "12.035316491435163\n",
      "8.508888440781686\n",
      "5.069670850023162\n"
     ]
    }
   ],
   "source": [
    "print(df_train['rougher_input_feed_ag'].mean())\n",
    "print(df_train['rougher_output_concentrate_ag'].mean())\n",
    "print(df_train['primary_cleaner_output_concentrate_ag'].mean())\n",
    "print(df_train['final_output_concentrate_ag'].mean())"
   ]
  },
  {
   "cell_type": "code",
   "execution_count": 178,
   "metadata": {},
   "outputs": [],
   "source": [
    "IQR_pb_1 = data_train['rougher.input.feed_pb'].quantile(0.75) - data_train['rougher.input.feed_pb'].quantile(0.25)\n",
    "LIQR_pb_1 = data_train['rougher.input.feed_pb'].quantile(0.25)-1.5*IQR_pb_1\n",
    "UIQR_pb_1 = data_train['rougher.input.feed_pb'].quantile(0.75)+1.5*IQR_pb_1"
   ]
  },
  {
   "cell_type": "code",
   "execution_count": 179,
   "metadata": {},
   "outputs": [],
   "source": [
    "IQR_pb_2 = data_train['rougher.output.concentrate_pb'].quantile(0.75) - data_train['rougher.output.concentrate_pb'].quantile(0.25)\n",
    "LIQR_pb_2 = data_train['rougher.output.concentrate_pb'].quantile(0.25)-1.5*IQR_pb_2\n",
    "UIQR_pb_2 = data_train['rougher.output.concentrate_pb'].quantile(0.75)+1.5*IQR_pb_2"
   ]
  },
  {
   "cell_type": "code",
   "execution_count": 180,
   "metadata": {},
   "outputs": [],
   "source": [
    "IQR_pb_3 = data_train['primary_cleaner.output.concentrate_pb'].quantile(0.75) - data_train['primary_cleaner.output.concentrate_pb'].quantile(0.25)\n",
    "LIQR_pb_3 = data_train['primary_cleaner.output.concentrate_pb'].quantile(0.25)-1.5*IQR_pb_3\n",
    "UIQR_pb_3 = data_train['primary_cleaner.output.concentrate_pb'].quantile(0.75)+1.5*IQR_pb_3"
   ]
  },
  {
   "cell_type": "code",
   "execution_count": 181,
   "metadata": {},
   "outputs": [],
   "source": [
    "IQR_pb_4 = data_train['final.output.concentrate_pb'].quantile(0.75) - data_train['final.output.concentrate_pb'].quantile(0.25)\n",
    "LIQR_pb_4 = data_train['final.output.concentrate_pb'].quantile(0.25)-1.5*IQR_pb_4\n",
    "UIQR_pb_4 = data_train['final.output.concentrate_pb'].quantile(0.75)+1.5*IQR_pb_4"
   ]
  },
  {
   "cell_type": "code",
   "execution_count": 182,
   "metadata": {},
   "outputs": [],
   "source": [
    "df_train = pd.DataFrame()\n",
    "df_train['rougher_input_feed_pb'] = data_train['rougher.input.feed_pb']\n",
    "df_train['rougher_output_concentrate_pb'] = data_train['rougher.output.concentrate_pb']\n",
    "df_train['primary_cleaner_output_concentrate_pb'] = data_train['primary_cleaner.output.concentrate_pb']\n",
    "df_train['final_output_concentrate_pb'] = data_train['final.output.concentrate_pb']"
   ]
  },
  {
   "cell_type": "code",
   "execution_count": 183,
   "metadata": {},
   "outputs": [],
   "source": [
    "df_train = df_train.query('rougher_input_feed_pb > @LIQR_pb_1 and rougher_input_feed_pb < @UIQR_pb_1 and rougher_output_concentrate_pb > @LIQR_pb_2 and rougher_output_concentrate_pb < @UIQR_pb_2 and primary_cleaner_output_concentrate_pb > @LIQR_pb_3 and primary_cleaner_output_concentrate_pb < @UIQR_pb_3 and final_output_concentrate_pb > @LIQR_pb_4 and final_output_concentrate_pb < @UIQR_pb_4')\n",
    "df_train = df_train.reset_index()"
   ]
  },
  {
   "cell_type": "code",
   "execution_count": 184,
   "metadata": {
    "scrolled": true
   },
   "outputs": [
    {
     "data": {
      "text/plain": [
       "<matplotlib.legend.Legend at 0x7f72cae7dfd0>"
      ]
     },
     "execution_count": 184,
     "metadata": {},
     "output_type": "execute_result"
    },
    {
     "data": {
      "image/png": "[encoded data removed]",
      "text/plain": [
       "<Figure size 432x288 with 1 Axes>"
      ]
     },
     "metadata": {
      "needs_background": "light"
     },
     "output_type": "display_data"
    }
   ],
   "source": [
    "plt.hist(df_train['rougher_input_feed_pb'], bins=50, alpha=0.5, label=\"rougher input\")\n",
    "plt.hist(df_train['rougher_output_concentrate_pb'], bins=50, alpha=0.5, label=\"rougher output\")\n",
    "plt.hist(df_train['primary_cleaner_output_concentrate_pb'], bins=50, alpha=0.5, label=\"cleaner output\")\n",
    "plt.hist(df_train['final_output_concentrate_pb'], bins=50, alpha=0.5, label=\"final output\")\n",
    "\n",
    "plt.vlines(x=[df_train['rougher_input_feed_pb'].mean()], ymin=0, ymax=1200, colors='blue', ls='--', alpha=0.5)\n",
    "plt.vlines(x=[df_train['rougher_output_concentrate_pb'].mean()], ymin=0, ymax=1200, colors='orange', ls='--', alpha=0.5)\n",
    "plt.vlines(x=[df_train['primary_cleaner_output_concentrate_pb'].mean()], ymin=0, ymax=1200, colors='green', ls='--', alpha=0.5)\n",
    "plt.vlines(x=[df_train['final_output_concentrate_pb'].mean()], ymin=0, ymax=1200, colors='red', ls='--', alpha=0.5)\n",
    "\n",
    "plt.xlabel(\"Tamaño\", size=14)\n",
    "plt.title(\"Tamaño de partícula de plomo por etapa\")\n",
    "plt.legend(loc='upper right')"
   ]
  },
  {
   "cell_type": "markdown",
   "metadata": {},
   "source": [
    "<div class=\"alert alert-block alert-success\">\n",
    "<b>Comentario de Reviewer v2</b> <a class=\"tocSkip\"></a>\n",
    "\n",
    "Muy bien, se observa como el plomo aumenta levemente su concentración luego de rougher output.\n",
    "</div>"
   ]
  },
  {
   "cell_type": "code",
   "execution_count": 185,
   "metadata": {},
   "outputs": [
    {
     "name": "stdout",
     "output_type": "stream",
     "text": [
      "3.550692818787707\n",
      "7.759087196653942\n",
      "9.718740351508727\n",
      "10.255028442977252\n"
     ]
    }
   ],
   "source": [
    "print(df_train['rougher_input_feed_pb'].mean())\n",
    "print(df_train['rougher_output_concentrate_pb'].mean())\n",
    "print(df_train['primary_cleaner_output_concentrate_pb'].mean())\n",
    "print(df_train['final_output_concentrate_pb'].mean())"
   ]
  },
  {
   "cell_type": "code",
   "execution_count": 186,
   "metadata": {},
   "outputs": [],
   "source": [
    "IQR_au_1 = data_train['rougher.input.feed_au'].quantile(0.75) - data_train['rougher.input.feed_au'].quantile(0.25)\n",
    "LIQR_au_1 = data_train['rougher.input.feed_au'].quantile(0.25)-1.5*IQR_au_1\n",
    "UIQR_au_1 = data_train['rougher.input.feed_au'].quantile(0.75)+1.5*IQR_au_1"
   ]
  },
  {
   "cell_type": "code",
   "execution_count": 187,
   "metadata": {},
   "outputs": [],
   "source": [
    "IQR_au_2 = data_train['rougher.output.concentrate_au'].quantile(0.75) - data_train['rougher.output.concentrate_au'].quantile(0.25)\n",
    "LIQR_au_2 = data_train['rougher.output.concentrate_au'].quantile(0.25)-1.5*IQR_au_2\n",
    "UIQR_au_2 = data_train['rougher.output.concentrate_au'].quantile(0.75)+1.5*IQR_au_2"
   ]
  },
  {
   "cell_type": "code",
   "execution_count": 188,
   "metadata": {},
   "outputs": [],
   "source": [
    "IQR_au_3 = data_train['primary_cleaner.output.concentrate_au'].quantile(0.75) - data_train['primary_cleaner.output.concentrate_au'].quantile(0.25)\n",
    "LIQR_au_3 = data_train['primary_cleaner.output.concentrate_au'].quantile(0.25)-1.5*IQR_au_3\n",
    "UIQR_au_3 = data_train['primary_cleaner.output.concentrate_au'].quantile(0.75)+1.5*IQR_au_3"
   ]
  },
  {
   "cell_type": "code",
   "execution_count": 189,
   "metadata": {},
   "outputs": [],
   "source": [
    "IQR_au_4 = data_train['final.output.concentrate_au'].quantile(0.75) - data_train['final.output.concentrate_au'].quantile(0.25)\n",
    "LIQR_au_4 = data_train['final.output.concentrate_au'].quantile(0.25)-1.5*IQR_au_4\n",
    "UIQR_au_4 = data_train['final.output.concentrate_au'].quantile(0.75)+1.5*IQR_au_4"
   ]
  },
  {
   "cell_type": "code",
   "execution_count": 190,
   "metadata": {},
   "outputs": [],
   "source": [
    "df_train = pd.DataFrame()\n",
    "df_train['rougher_input_feed_au'] = data_train['rougher.input.feed_au']\n",
    "df_train['rougher_output_concentrate_au'] = data_train['rougher.output.concentrate_au']\n",
    "df_train['primary_cleaner_output_concentrate_au'] = data_train['primary_cleaner.output.concentrate_au']\n",
    "df_train['final_output_concentrate_au'] = data_train['final.output.concentrate_au']"
   ]
  },
  {
   "cell_type": "code",
   "execution_count": 191,
   "metadata": {},
   "outputs": [],
   "source": [
    "df_train = df_train.query('rougher_input_feed_au > @LIQR_au_1 and rougher_input_feed_au < @UIQR_au_1 and rougher_output_concentrate_au > @LIQR_au_2 and rougher_output_concentrate_au < @UIQR_au_2 and primary_cleaner_output_concentrate_au > @LIQR_au_3 and primary_cleaner_output_concentrate_au < @UIQR_au_3 and final_output_concentrate_au > @LIQR_au_4 and final_output_concentrate_au < @UIQR_au_4')\n",
    "df_train = df_train.reset_index()"
   ]
  },
  {
   "cell_type": "code",
   "execution_count": 192,
   "metadata": {
    "scrolled": true
   },
   "outputs": [
    {
     "data": {
      "text/plain": [
       "<matplotlib.legend.Legend at 0x7f72cab041c0>"
      ]
     },
     "execution_count": 192,
     "metadata": {},
     "output_type": "execute_result"
    },
    {
     "data": {
      "image/png": "[encoded data removed]",
      "text/plain": [
       "<Figure size 432x288 with 1 Axes>"
      ]
     },
     "metadata": {
      "needs_background": "light"
     },
     "output_type": "display_data"
    }
   ],
   "source": [
    "plt.hist(df_train['rougher_input_feed_au'], bins=50, alpha=0.5, label=\"rougher input\")\n",
    "plt.hist(df_train['rougher_output_concentrate_au'], bins=50, alpha=0.5, label=\"rougher output\")\n",
    "plt.hist(df_train['primary_cleaner_output_concentrate_au'], bins=50, alpha=0.5, label=\"cleaner output\")\n",
    "plt.hist(df_train['final_output_concentrate_au'], bins=50, alpha=0.5, label=\"final output\")\n",
    "\n",
    "plt.vlines(x=[df_train['rougher_input_feed_au'].mean()], ymin=0, ymax=1200, colors='blue', ls='--', alpha=0.5)\n",
    "plt.vlines(x=[df_train['rougher_output_concentrate_au'].mean()], ymin=0, ymax=1200, colors='orange', ls='--', alpha=0.5)\n",
    "plt.vlines(x=[df_train['primary_cleaner_output_concentrate_au'].mean()], ymin=0, ymax=1200, colors='green', ls='--', alpha=0.5)\n",
    "plt.vlines(x=[df_train['final_output_concentrate_au'].mean()], ymin=0, ymax=1200, colors='red', ls='--', alpha=0.5)\n",
    "\n",
    "plt.xlabel(\"Tamaño\", size=14)\n",
    "plt.title(\"Tamaño de partícula de oro por etapa\")\n",
    "plt.legend(loc='upper right')"
   ]
  },
  {
   "cell_type": "markdown",
   "metadata": {},
   "source": [
    "<div class=\"alert alert-block alert-success\">\n",
    "<b>Comentario de Reviewer v2</b> <a class=\"tocSkip\"></a>\n",
    "\n",
    "Muy bien, el oro aumenta fuertemente su concentración en todas las etapas.\n",
    "</div>"
   ]
  },
  {
   "cell_type": "code",
   "execution_count": 193,
   "metadata": {},
   "outputs": [
    {
     "name": "stdout",
     "output_type": "stream",
     "text": [
      "8.119180907505722\n",
      "20.35522693585734\n",
      "33.234769277109535\n",
      "44.75561883513264\n"
     ]
    }
   ],
   "source": [
    "print(df_train['rougher_input_feed_au'].mean())\n",
    "print(df_train['rougher_output_concentrate_au'].mean())\n",
    "print(df_train['primary_cleaner_output_concentrate_au'].mean())\n",
    "print(df_train['final_output_concentrate_au'].mean())"
   ]
  },
  {
   "cell_type": "markdown",
   "metadata": {},
   "source": [
    "<div class=\"alert alert-block alert-danger\">\n",
    "<b>Comentario de Reviewer</b> <a class=\"tocSkip\"></a>\n",
    "\n",
    "Para estos gráficos te recomiendo utilizar histogramas. Los boxplots muestran la existencia de outliers pero no denotan la cantidad de estos, no se puede saber fácilmente si la cantidad de outliers es significativa o no. De haber outliers, debes eliminarlos.\n",
    "</div>"
   ]
  },
  {
   "cell_type": "markdown",
   "metadata": {},
   "source": [
    "<div class=\"alert alert-block alert-info\">\n",
    "<b>Respuesta estudiante.</b> <a class=\"tocSkip\"></a>\n",
    "Se han cambiado los gráficos por histogramas y se han eliminado todos os outliers utilizando las fórmulas de IQR para cada partícula.\n",
    "    \n",
    "</div>"
   ]
  },
  {
   "cell_type": "markdown",
   "metadata": {},
   "source": [
    "<div class=\"alert alert-block alert-success\">\n",
    "<b>Comentario de Reviewer v2</b> <a class=\"tocSkip\"></a>\n",
    "\n",
    "Excelente! Los gráficos muestran claramente como la concentración de cada metal aumenta o disminuye según la etapa a la que pasan.\n",
    "</div>"
   ]
  },
  {
   "cell_type": "markdown",
   "metadata": {},
   "source": [
    "<div class=\"alert alert-block alert-danger\">\n",
    "<b>Comentario de Reviewer</b> <a class=\"tocSkip\"></a>\n",
    "\n",
    "En esta parte debes mostrar cómo cambia la concentración de cada material en cada etapa. Idealmente en un gráfico para cada material muestra la distribución de la concentración en el input, la flotación, la primera purificación y el final.\n",
    "</div>"
   ]
  },
  {
   "cell_type": "markdown",
   "metadata": {},
   "source": [
    "<div class=\"alert alert-block alert-info\">\n",
    "<b>Respuesta estudiante.</b> <a class=\"tocSkip\"></a>\n",
    "La concentración de los materiales en cada etapa ya se ha incluído en los histogramas de la sección anterior, por lo que esta sección ya no es necesaria.\n",
    "</div>"
   ]
  },
  {
   "cell_type": "markdown",
   "metadata": {},
   "source": [
    "<div class=\"alert alert-block alert-success\">\n",
    "<b>Comentario de Reviewer v2</b> <a class=\"tocSkip\"></a>\n",
    "\n",
    "Corregido\n",
    "</div>"
   ]
  },
  {
   "cell_type": "markdown",
   "metadata": {},
   "source": [
    "##### Distribución de tamaño de partícula en la alimentación"
   ]
  },
  {
   "cell_type": "code",
   "execution_count": 194,
   "metadata": {
    "scrolled": true
   },
   "outputs": [],
   "source": [
    "rougher_ag_input_train = data_train.pivot_table(index = 'date', values ='rougher.input.feed_ag')\n",
    "rougher_ag_input_test = data_test.pivot_table(index = 'date', values ='rougher.input.feed_ag')"
   ]
  },
  {
   "cell_type": "code",
   "execution_count": 195,
   "metadata": {},
   "outputs": [],
   "source": [
    "rougher_au_input_train = data_train.pivot_table(index = 'date', values ='rougher.input.feed_au')\n",
    "rougher_au_input_test = data_test.pivot_table(index = 'date', values ='rougher.input.feed_au')"
   ]
  },
  {
   "cell_type": "code",
   "execution_count": 196,
   "metadata": {},
   "outputs": [],
   "source": [
    "rougher_pb_input_train = data_train.pivot_table(index = 'date', values ='rougher.input.feed_pb')\n",
    "rougher_pb_input_test = data_test.pivot_table(index = 'date', values ='rougher.input.feed_pb')"
   ]
  },
  {
   "cell_type": "markdown",
   "metadata": {},
   "source": [
    "###### Distribución de tamaño para plata"
   ]
  },
  {
   "cell_type": "code",
   "execution_count": 197,
   "metadata": {},
   "outputs": [
    {
     "data": {
      "text/plain": [
       "<matplotlib.legend.Legend at 0x7f72ca8e6700>"
      ]
     },
     "execution_count": 197,
     "metadata": {},
     "output_type": "execute_result"
    },
    {
     "data": {
      "image/png": "[encoded data removed]",
      "text/plain": [
       "<Figure size 432x288 with 1 Axes>"
      ]
     },
     "metadata": {
      "needs_background": "light"
     },
     "output_type": "display_data"
    }
   ],
   "source": [
    "plt.hist(rougher_ag_input_train, bins=50, alpha=0.5, label=\"rougher ag input train\")\n",
    "plt.hist(rougher_ag_input_test , bins=50, alpha=0.5, label=\"rougher ag input test\")\n",
    "plt.vlines(x=[rougher_ag_input_train.mean()], ymin=0, ymax=1200, colors='green', ls='--', alpha=0.5)\n",
    "plt.vlines(x=[rougher_ag_input_test.mean()], ymin=0, ymax=1200, colors='blue', ls='--', alpha=0.5)\n",
    "plt.text(0,800, s = 'mean = {0} \\n stdev = {1}'.format(round(rougher_ag_input_train.mean(), 2), round(np.std(rougher_ag_input_train),2)))\n",
    "plt.text(10,500, s = 'mean = {0} \\n stdev = {1}'.format(round(rougher_ag_input_test.mean(), 2), round(np.std(rougher_ag_input_test),2)))\n",
    "plt.legend(loc='upper right')"
   ]
  },
  {
   "cell_type": "markdown",
   "metadata": {},
   "source": [
    "###### Distribución de tamaño para oro"
   ]
  },
  {
   "cell_type": "code",
   "execution_count": 198,
   "metadata": {
    "scrolled": true
   },
   "outputs": [
    {
     "data": {
      "text/plain": [
       "<matplotlib.legend.Legend at 0x7f72caa50e80>"
      ]
     },
     "execution_count": 198,
     "metadata": {},
     "output_type": "execute_result"
    },
    {
     "data": {
      "image/png": "[encoded data removed]",
      "text/plain": [
       "<Figure size 432x288 with 1 Axes>"
      ]
     },
     "metadata": {
      "needs_background": "light"
     },
     "output_type": "display_data"
    }
   ],
   "source": [
    "plt.hist(rougher_au_input_train, bins=50, alpha=0.5, label=\"rougher au input train\")\n",
    "plt.hist(rougher_au_input_test , bins=50, alpha=0.5, label=\"rougher au input test\")\n",
    "plt.vlines(x=[rougher_au_input_train.mean()], ymin=0, ymax=1200, colors='green', ls='--', alpha=0.5)\n",
    "plt.vlines(x=[rougher_au_input_test.mean()], ymin=0, ymax=1200, colors='blue', ls='--', alpha=0.5)\n",
    "plt.text(0,800, s = 'mean = {0} \\n stdev = {1}'.format(round(rougher_au_input_train.mean(), 2), round(np.std(rougher_au_input_train),2)))\n",
    "plt.text(10,500, s = 'mean = {0} \\n stdev = {1}'.format(round(rougher_au_input_test.mean(), 2), round(np.std(rougher_au_input_test),2)))\n",
    "plt.legend(loc='upper right')"
   ]
  },
  {
   "cell_type": "markdown",
   "metadata": {},
   "source": [
    "###### Distribución de tamaño para plomo"
   ]
  },
  {
   "cell_type": "code",
   "execution_count": 382,
   "metadata": {
    "scrolled": true
   },
   "outputs": [
    {
     "data": {
      "text/plain": [
       "<matplotlib.legend.Legend at 0x7f72ca1e3b80>"
      ]
     },
     "execution_count": 382,
     "metadata": {},
     "output_type": "execute_result"
    },
    {
     "data": {
      "image/png": "[encoded data removed]",
      "text/plain": [
       "<Figure size 432x288 with 1 Axes>"
      ]
     },
     "metadata": {
      "needs_background": "light"
     },
     "output_type": "display_data"
    }
   ],
   "source": [
    "plt.hist(rougher_pb_input_train, bins=50, alpha=0.5, label=\"rougher pb input train\")\n",
    "plt.hist(rougher_pb_input_test , bins=50, alpha=0.5, label=\"rougher pb input test\")\n",
    "plt.vlines(x=[rougher_pb_input_train.mean()], ymin=0, ymax=1200, colors='green', ls='--', alpha=0.5)\n",
    "plt.vlines(x=[rougher_pb_input_test.mean()], ymin=0, ymax=1200, colors='blue', ls='--', alpha=0.5)\n",
    "plt.text(0,700, s = 'mean = {0} \\n stdev = {1}'.format(round(rougher_pb_input_train.mean(), 2), round(np.std(rougher_pb_input_train),2)))\n",
    "plt.text(4,400, s = 'mean = {0} \\n stdev = {1}'.format(round(rougher_pb_input_test.mean(), 2), round(np.std(rougher_pb_input_test),2)))\n",
    "plt.legend(loc='upper right')"
   ]
  },
  {
   "cell_type": "markdown",
   "metadata": {},
   "source": [
    "- Para la partícula de plata tenemos distribuciones muy desiguales en los dataframe de entrenamiento y prueba con medias de 8.77 y 9.32 y desviación estándar de 1.88 y 2.05 respectivamente.\n",
    "- Para la partícula de oro tenemos distribuciones muy desiguales en los dataframe de entrenamiento y prueba con medias de 8.11 y 9.29 y desviación estándar de 1.79 y 1.76 respectivamente.\n",
    "- Para la partícula de plomo tenemos distribuciones muy desiguales en los dataframe de entrenamiento y prueba con medias de 3.55 y 3.79 y desviación estándar de 1.07 y 1.0 respectivamente."
   ]
  },
  {
   "cell_type": "markdown",
   "metadata": {},
   "source": [
    "<div class=\"alert alert-block alert-danger\">\n",
    "<b>Comentario de Reviewer</b> <a class=\"tocSkip\"></a>\n",
    "\n",
    "Los gráficos están muy bien, pero falta alguna conclusión al respecto.\n",
    "</div>"
   ]
  },
  {
   "cell_type": "markdown",
   "metadata": {},
   "source": [
    "<div class=\"alert alert-block alert-info\">\n",
    "<b>Respuesta estudiante.</b> <a class=\"tocSkip\"></a>\n",
    "Se ha agregado una sección markdown con conclusiones para cada caso como se solicitó.\n",
    "</div>"
   ]
  },
  {
   "cell_type": "markdown",
   "metadata": {},
   "source": [
    "<div class=\"alert alert-block alert-success\">\n",
    "<b>Comentario de Reviewer v2</b> <a class=\"tocSkip\"></a>\n",
    "\n",
    "Muy bien! Esto significa entonces que las diferencias parecen ser significativas\n",
    "</div>"
   ]
  },
  {
   "cell_type": "markdown",
   "metadata": {},
   "source": [
    "#### Construcción del modelo"
   ]
  },
  {
   "cell_type": "markdown",
   "metadata": {},
   "source": [
    "##### Evaluación de modelos predictivos"
   ]
  },
  {
   "cell_type": "markdown",
   "metadata": {},
   "source": [
    "###### Métrica de evaluación de los modelos "
   ]
  },
  {
   "cell_type": "code",
   "execution_count": 386,
   "metadata": {},
   "outputs": [],
   "source": [
    "def sMAPE(target, prediction):\n",
    "    sMAPE = (abs(target - prediction)/ (abs(target) + abs(prediction))/2).mean() * 100\n",
    "    return sMAPE"
   ]
  },
  {
   "cell_type": "markdown",
   "metadata": {},
   "source": [
    "###### Entrenamiento para rougher output recovery"
   ]
  },
  {
   "cell_type": "code",
   "execution_count": 383,
   "metadata": {
    "scrolled": true
   },
   "outputs": [
    {
     "data": {
      "text/plain": [
       "Index(['date', 'final.output.concentrate_ag', 'final.output.concentrate_pb',\n",
       "       'final.output.concentrate_sol', 'final.output.concentrate_au',\n",
       "       'final.output.recovery', 'final.output.tail_ag', 'final.output.tail_pb',\n",
       "       'final.output.tail_sol', 'final.output.tail_au',\n",
       "       'primary_cleaner.input.sulfate', 'primary_cleaner.input.depressant',\n",
       "       'primary_cleaner.input.feed_size', 'primary_cleaner.input.xanthate',\n",
       "       'primary_cleaner.output.concentrate_ag',\n",
       "       'primary_cleaner.output.concentrate_pb',\n",
       "       'primary_cleaner.output.concentrate_sol',\n",
       "       'primary_cleaner.output.concentrate_au',\n",
       "       'primary_cleaner.output.tail_ag', 'primary_cleaner.output.tail_pb',\n",
       "       'primary_cleaner.output.tail_sol', 'primary_cleaner.output.tail_au',\n",
       "       'primary_cleaner.state.floatbank8_a_air',\n",
       "       'primary_cleaner.state.floatbank8_a_level',\n",
       "       'primary_cleaner.state.floatbank8_b_air',\n",
       "       'primary_cleaner.state.floatbank8_b_level',\n",
       "       'primary_cleaner.state.floatbank8_c_air',\n",
       "       'primary_cleaner.state.floatbank8_c_level',\n",
       "       'primary_cleaner.state.floatbank8_d_air',\n",
       "       'primary_cleaner.state.floatbank8_d_level',\n",
       "       'rougher.calculation.sulfate_to_au_concentrate',\n",
       "       'rougher.calculation.floatbank10_sulfate_to_au_feed',\n",
       "       'rougher.calculation.floatbank11_sulfate_to_au_feed',\n",
       "       'rougher.calculation.au_pb_ratio', 'rougher.input.feed_ag',\n",
       "       'rougher.input.feed_pb', 'rougher.input.feed_rate',\n",
       "       'rougher.input.feed_size', 'rougher.input.feed_sol',\n",
       "       'rougher.input.feed_au', 'rougher.input.floatbank10_sulfate',\n",
       "       'rougher.input.floatbank10_xanthate',\n",
       "       'rougher.input.floatbank11_sulfate',\n",
       "       'rougher.input.floatbank11_xanthate', 'rougher.output.concentrate_ag',\n",
       "       'rougher.output.concentrate_pb', 'rougher.output.concentrate_sol',\n",
       "       'rougher.output.concentrate_au', 'rougher.output.recovery',\n",
       "       'rougher.output.tail_ag', 'rougher.output.tail_pb',\n",
       "       'rougher.output.tail_sol', 'rougher.output.tail_au',\n",
       "       'rougher.state.floatbank10_a_air', 'rougher.state.floatbank10_a_level',\n",
       "       'rougher.state.floatbank10_b_air', 'rougher.state.floatbank10_b_level',\n",
       "       'rougher.state.floatbank10_c_air', 'rougher.state.floatbank10_c_level',\n",
       "       'rougher.state.floatbank10_d_air', 'rougher.state.floatbank10_d_level',\n",
       "       'rougher.state.floatbank10_e_air', 'rougher.state.floatbank10_e_level',\n",
       "       'rougher.state.floatbank10_f_air', 'rougher.state.floatbank10_f_level',\n",
       "       'secondary_cleaner.output.tail_ag', 'secondary_cleaner.output.tail_pb',\n",
       "       'secondary_cleaner.output.tail_sol', 'secondary_cleaner.output.tail_au',\n",
       "       'secondary_cleaner.state.floatbank2_a_air',\n",
       "       'secondary_cleaner.state.floatbank2_a_level',\n",
       "       'secondary_cleaner.state.floatbank2_b_air',\n",
       "       'secondary_cleaner.state.floatbank2_b_level',\n",
       "       'secondary_cleaner.state.floatbank3_a_air',\n",
       "       'secondary_cleaner.state.floatbank3_a_level',\n",
       "       'secondary_cleaner.state.floatbank3_b_air',\n",
       "       'secondary_cleaner.state.floatbank3_b_level',\n",
       "       'secondary_cleaner.state.floatbank4_a_air',\n",
       "       'secondary_cleaner.state.floatbank4_a_level',\n",
       "       'secondary_cleaner.state.floatbank4_b_air',\n",
       "       'secondary_cleaner.state.floatbank4_b_level',\n",
       "       'secondary_cleaner.state.floatbank5_a_air',\n",
       "       'secondary_cleaner.state.floatbank5_a_level',\n",
       "       'secondary_cleaner.state.floatbank5_b_air',\n",
       "       'secondary_cleaner.state.floatbank5_b_level',\n",
       "       'secondary_cleaner.state.floatbank6_a_air',\n",
       "       'secondary_cleaner.state.floatbank6_a_level'],\n",
       "      dtype='object')"
      ]
     },
     "execution_count": 383,
     "metadata": {},
     "output_type": "execute_result"
    }
   ],
   "source": [
    "data_train.columns"
   ]
  },
  {
   "cell_type": "code",
   "execution_count": 384,
   "metadata": {},
   "outputs": [],
   "source": [
    "target_r = data_train['rougher.output.recovery']\n",
    "features_r = data_train.drop(['date', 'final.output.concentrate_ag', 'final.output.concentrate_pb',\n",
    "       'final.output.concentrate_sol', 'final.output.concentrate_au',\n",
    "       'final.output.recovery', 'final.output.tail_ag', 'final.output.tail_pb',\n",
    "       'final.output.tail_sol', 'final.output.tail_au',\n",
    "       'primary_cleaner.input.sulfate', 'primary_cleaner.input.depressant',\n",
    "       'primary_cleaner.input.feed_size', 'primary_cleaner.input.xanthate',\n",
    "       'primary_cleaner.output.concentrate_ag',\n",
    "       'primary_cleaner.output.concentrate_pb',\n",
    "       'primary_cleaner.output.concentrate_sol',\n",
    "       'primary_cleaner.output.concentrate_au',\n",
    "       'primary_cleaner.output.tail_ag', 'primary_cleaner.output.tail_pb',\n",
    "       'primary_cleaner.output.tail_sol', 'primary_cleaner.output.tail_au',\n",
    "       'primary_cleaner.state.floatbank8_a_air',\n",
    "       'primary_cleaner.state.floatbank8_a_level',\n",
    "       'primary_cleaner.state.floatbank8_b_air',\n",
    "       'primary_cleaner.state.floatbank8_b_level',\n",
    "       'primary_cleaner.state.floatbank8_c_air',\n",
    "       'primary_cleaner.state.floatbank8_c_level',\n",
    "       'primary_cleaner.state.floatbank8_d_air',\n",
    "       'primary_cleaner.state.floatbank8_d_level',\n",
    "       'rougher.calculation.sulfate_to_au_concentrate',\n",
    "       'rougher.calculation.floatbank10_sulfate_to_au_feed',\n",
    "       'rougher.calculation.floatbank11_sulfate_to_au_feed',\n",
    "       'rougher.calculation.au_pb_ratio', #'rougher.input.feed_ag',\n",
    "       #'rougher.input.feed_pb', 'rougher.input.feed_rate',\n",
    "       #'rougher.input.feed_size', 'rougher.input.feed_sol',\n",
    "       #'rougher.input.feed_au', \n",
    "       'rougher.input.floatbank10_sulfate',\n",
    "       'rougher.input.floatbank10_xanthate',\n",
    "       'rougher.input.floatbank11_sulfate',\n",
    "       'rougher.input.floatbank11_xanthate', 'rougher.output.concentrate_ag',\n",
    "       'rougher.output.concentrate_pb', 'rougher.output.concentrate_sol',\n",
    "       'rougher.output.concentrate_au', 'rougher.output.recovery',\n",
    "       'rougher.output.tail_ag', 'rougher.output.tail_pb',\n",
    "       'rougher.output.tail_sol', 'rougher.output.tail_au',\n",
    "       'rougher.state.floatbank10_a_air', 'rougher.state.floatbank10_a_level',\n",
    "       'rougher.state.floatbank10_b_air', 'rougher.state.floatbank10_b_level',\n",
    "       'rougher.state.floatbank10_c_air', 'rougher.state.floatbank10_c_level',\n",
    "       'rougher.state.floatbank10_d_air', 'rougher.state.floatbank10_d_level',\n",
    "       'rougher.state.floatbank10_e_air', 'rougher.state.floatbank10_e_level',\n",
    "       'rougher.state.floatbank10_f_air', 'rougher.state.floatbank10_f_level',\n",
    "       'secondary_cleaner.output.tail_ag', 'secondary_cleaner.output.tail_pb',\n",
    "       'secondary_cleaner.output.tail_sol', 'secondary_cleaner.output.tail_au',\n",
    "       'secondary_cleaner.state.floatbank2_a_air',\n",
    "       'secondary_cleaner.state.floatbank2_a_level',\n",
    "       'secondary_cleaner.state.floatbank2_b_air',\n",
    "       'secondary_cleaner.state.floatbank2_b_level',\n",
    "       'secondary_cleaner.state.floatbank3_a_air',\n",
    "       'secondary_cleaner.state.floatbank3_a_level',\n",
    "       'secondary_cleaner.state.floatbank3_b_air',\n",
    "       'secondary_cleaner.state.floatbank3_b_level',\n",
    "       'secondary_cleaner.state.floatbank4_a_air',\n",
    "       'secondary_cleaner.state.floatbank4_a_level',\n",
    "       'secondary_cleaner.state.floatbank4_b_air',\n",
    "       'secondary_cleaner.state.floatbank4_b_level',\n",
    "       'secondary_cleaner.state.floatbank5_a_air',\n",
    "       'secondary_cleaner.state.floatbank5_a_level',\n",
    "       'secondary_cleaner.state.floatbank5_b_air',\n",
    "       'secondary_cleaner.state.floatbank5_b_level',\n",
    "       'secondary_cleaner.state.floatbank6_a_air',\n",
    "       'secondary_cleaner.state.floatbank6_a_level'],axis=1)"
   ]
  },
  {
   "cell_type": "code",
   "execution_count": 385,
   "metadata": {},
   "outputs": [
    {
     "data": {
      "text/plain": [
       "Index(['rougher.input.feed_ag', 'rougher.input.feed_pb',\n",
       "       'rougher.input.feed_rate', 'rougher.input.feed_size',\n",
       "       'rougher.input.feed_sol', 'rougher.input.feed_au'],\n",
       "      dtype='object')"
      ]
     },
     "execution_count": 385,
     "metadata": {},
     "output_type": "execute_result"
    }
   ],
   "source": [
    "features_r.columns"
   ]
  },
  {
   "cell_type": "markdown",
   "metadata": {},
   "source": [
    "###### Validación cruzada para rougher output recovery"
   ]
  },
  {
   "cell_type": "code",
   "execution_count": 387,
   "metadata": {},
   "outputs": [],
   "source": [
    "X_valid_r, X_train_r, Y_valid_r, Y_train_r = train_test_split(features_r, target_r, test_size=0.25, random_state=12345)"
   ]
  },
  {
   "cell_type": "code",
   "execution_count": 388,
   "metadata": {},
   "outputs": [
    {
     "name": "stdout",
     "output_type": "stream",
     "text": [
      "Media sMAPE: 2.368542781867162, max_depth = 1\n",
      "Media sMAPE: 2.2957337946821976, max_depth = 2\n",
      "Media sMAPE: 2.309484432883967, max_depth = 3\n",
      "Media sMAPE: 2.2786145219834126, max_depth = 4\n",
      "Media sMAPE: 2.2768175229390457, max_depth = 5\n",
      "Media sMAPE: 2.2732016384779925, max_depth = 6\n",
      "Media sMAPE: 2.269750506638436, max_depth = 7\n",
      "Media sMAPE: 2.261505996882529, max_depth = 8\n",
      "Media sMAPE: 2.2680699056559432, max_depth = 9\n",
      "Media sMAPE: 2.270974468492681, max_depth = 10\n"
     ]
    }
   ],
   "source": [
    "custom_scorer = make_scorer(sMAPE)\n",
    "for i in range(1, 11): \n",
    "    rmodel = RandomForestRegressor(random_state=54321, max_depth=i, n_estimators=30)\n",
    "    rsmape = cross_val_score(rmodel, X_train_r, Y_train_r.to_numpy(), scoring=custom_scorer, cv=5)\n",
    "    rsmape_mean = rsmape.mean() \n",
    "    print(f'Media sMAPE: {rsmape_mean}, max_depth = {i}')"
   ]
  },
  {
   "cell_type": "code",
   "execution_count": 389,
   "metadata": {},
   "outputs": [
    {
     "name": "stdout",
     "output_type": "stream",
     "text": [
      "Media sMAPE: 2.3873215230524583, max_depth = 1\n",
      "Media sMAPE: 2.321106075559987, max_depth = 2\n",
      "Media sMAPE: 2.3179369258665696, max_depth = 3\n",
      "Media sMAPE: 2.3482863892586545, max_depth = 4\n",
      "Media sMAPE: 2.333575309210004, max_depth = 5\n",
      "Media sMAPE: 2.341694812261598, max_depth = 6\n",
      "Media sMAPE: 2.33825281027822, max_depth = 7\n",
      "Media sMAPE: 2.3544281469403074, max_depth = 8\n",
      "Media sMAPE: 2.3531742008225187, max_depth = 9\n",
      "Media sMAPE: 2.351270628608021, max_depth = 10\n"
     ]
    }
   ],
   "source": [
    "custom_scorer = make_scorer(sMAPE)\n",
    "for i in range(1, 11): # Variamos el rango de profundidad\n",
    "    rmodel = DecisionTreeRegressor(random_state=54321, max_depth=i, min_samples_leaf=50)\n",
    "    rsmape = cross_val_score(rmodel, X_train_r, Y_train_r.to_numpy(), scoring=custom_scorer, cv=5)\n",
    "    rsmape_mean = rsmape.mean() # La media de los scores de cv es una estimación de la media del modelo\n",
    "    print(f'Media sMAPE: {rsmape_mean}, max_depth = {i}')"
   ]
  },
  {
   "cell_type": "markdown",
   "metadata": {},
   "source": [
    "<div class=\"alert alert-block alert-danger\">\n",
    "<b>Comentario de Reviewer v3</b> <a class=\"tocSkip\"></a>\n",
    "\n",
    "Respecto a la función hay que hacerla más simple: Crea el custom_scorer y luego calcula el score con cross_val_score usando features y target de train. Debes iterar varias veces cambiando los parámetros, para cada combinación de parámetros ejecutas esta función. Una forma de hacer esto es así:\n",
    "    \n",
    "    custom_scorer = make_scorer(sMAPE)\n",
    "    for i in range(1, 11): # Variamos el rango de profundidad\n",
    "        rf_model = RandomForestRegressor(random_state=54321, max_depth=i, n_estimators=30)\n",
    "        rf_smape = cross_val_score(rf_model, features, target.to_numpy(), scoring=custom_scorer, cv=5)\n",
    "        smape_mean = rf_smape.mean() # La media de los scores de cv es una estimación de la media del modelo\n",
    "        print(f'Media sMAPE: {smape_mean}, max_depth = {i}')\n",
    "    \n",
    "Luego de correr estas iteraciones, hay que escoger el mejor modelo, y luego con este puedes proceder a predecir con el test y comparar con el real.\n",
    "</div>"
   ]
  },
  {
   "cell_type": "markdown",
   "metadata": {},
   "source": [
    "<div class=\"alert alert-block alert-info\">\n",
    "<b>Respuesta estudiante.</b> <a class=\"tocSkip\"></a>\n",
    "He modificado mi función para calcular sMAPE medio de dos modelos modulando los hiperparámetros de profundidad. La validación cruzada ya se ha corregido para utilizar los datos de entrenamiento. La selección del mejor modelo es aquel que tenga el error más bajo.\n",
    "</div>"
   ]
  },
  {
   "cell_type": "markdown",
   "metadata": {},
   "source": [
    "<div class=\"alert alert-block alert-danger\">\n",
    "<b>Comentario de Reviewer v2</b> <a class=\"tocSkip\"></a>\n",
    "\n",
    "Debes realizar la validación cruzada con la función de score smape. Para esto, debes crear un objeto de tipo scorer con `make_scorer` al cual le pasas la función de smape, luego este objeto lo utilizas en el argumento `scoring` de `cross_val_score`\n",
    "</div>"
   ]
  },
  {
   "cell_type": "markdown",
   "metadata": {},
   "source": [
    "<div class=\"alert alert-block alert-info\">\n",
    "<b>Respuesta estudiante.</b> <a class=\"tocSkip\"></a>\n",
    "Se ha agregado la llamada a sMAPE_r a través del objeto make_scorer como se recomendó y se modificó la fórmula de sMAPE para obtener los resultados después de indagar bastante con problemas relacionados al uso de for dentro de la función original.\n",
    "</div>"
   ]
  },
  {
   "cell_type": "markdown",
   "metadata": {},
   "source": [
    "<div class=\"alert alert-block alert-success\">\n",
    "<b>Comentario de Reviewer v3</b> <a class=\"tocSkip\"></a>\n",
    "\n",
    "Muy bien, ahora se utiliza la métrica correcta. Falta solamente aplicar el procedimiento correcto para encontrar el mejor modelo y luego de encontrarlo, testearlo con la data de test.\n",
    "</div>"
   ]
  },
  {
   "cell_type": "markdown",
   "metadata": {},
   "source": [
    "<div class=\"alert alert-block alert-success\">\n",
    "<b>Comentario de Reviewer v4</b> <a class=\"tocSkip\"></a>\n",
    "\n",
    "Muy bien, ahora sí esta correcto incluido los modelos\n",
    "</div>"
   ]
  },
  {
   "cell_type": "markdown",
   "metadata": {},
   "source": [
    "###### Entrenamiento para final output recovery"
   ]
  },
  {
   "cell_type": "code",
   "execution_count": 390,
   "metadata": {},
   "outputs": [],
   "source": [
    "target_f = data_train['final.output.recovery']\n",
    "features_f = data_train.drop(['date', 'final.output.concentrate_ag', 'final.output.concentrate_pb',\n",
    "       'final.output.concentrate_sol', 'final.output.concentrate_au',\n",
    "       'final.output.recovery', 'final.output.tail_ag', 'final.output.tail_pb',\n",
    "       'final.output.tail_sol', 'final.output.tail_au',\n",
    "       'primary_cleaner.input.sulfate', 'primary_cleaner.input.depressant',\n",
    "       'primary_cleaner.input.feed_size', 'primary_cleaner.input.xanthate',\n",
    "       #'primary_cleaner.output.concentrate_ag',\n",
    "       #'primary_cleaner.output.concentrate_pb',\n",
    "       #'primary_cleaner.output.concentrate_sol',\n",
    "       #'primary_cleaner.output.concentrate_au',\n",
    "       'primary_cleaner.output.tail_ag', 'primary_cleaner.output.tail_pb',\n",
    "       'primary_cleaner.output.tail_sol', 'primary_cleaner.output.tail_au',\n",
    "       'primary_cleaner.state.floatbank8_a_air',\n",
    "       'primary_cleaner.state.floatbank8_a_level',\n",
    "       'primary_cleaner.state.floatbank8_b_air',\n",
    "       'primary_cleaner.state.floatbank8_b_level',\n",
    "       'primary_cleaner.state.floatbank8_c_air',\n",
    "       'primary_cleaner.state.floatbank8_c_level',\n",
    "       'primary_cleaner.state.floatbank8_d_air',\n",
    "       'primary_cleaner.state.floatbank8_d_level',\n",
    "       'rougher.calculation.sulfate_to_au_concentrate',\n",
    "       'rougher.calculation.floatbank10_sulfate_to_au_feed',\n",
    "       'rougher.calculation.floatbank11_sulfate_to_au_feed',\n",
    "       'rougher.calculation.au_pb_ratio', 'rougher.input.feed_ag',\n",
    "       'rougher.input.feed_pb', 'rougher.input.feed_rate',\n",
    "       'rougher.input.feed_size', 'rougher.input.feed_sol',\n",
    "       'rougher.input.feed_au', 'rougher.input.floatbank10_sulfate',\n",
    "       'rougher.input.floatbank10_xanthate',\n",
    "       'rougher.input.floatbank11_sulfate',\n",
    "       'rougher.input.floatbank11_xanthate', 'rougher.output.concentrate_ag',\n",
    "       'rougher.output.concentrate_pb', 'rougher.output.concentrate_sol',\n",
    "       'rougher.output.concentrate_au', 'rougher.output.recovery',\n",
    "       'rougher.output.tail_ag', 'rougher.output.tail_pb',\n",
    "       'rougher.output.tail_sol', 'rougher.output.tail_au',\n",
    "       'rougher.state.floatbank10_a_air', 'rougher.state.floatbank10_a_level',\n",
    "       'rougher.state.floatbank10_b_air', 'rougher.state.floatbank10_b_level',\n",
    "       'rougher.state.floatbank10_c_air', 'rougher.state.floatbank10_c_level',\n",
    "       'rougher.state.floatbank10_d_air', 'rougher.state.floatbank10_d_level',\n",
    "       'rougher.state.floatbank10_e_air', 'rougher.state.floatbank10_e_level',\n",
    "       'rougher.state.floatbank10_f_air', 'rougher.state.floatbank10_f_level',\n",
    "       'secondary_cleaner.output.tail_ag', 'secondary_cleaner.output.tail_pb',\n",
    "       'secondary_cleaner.output.tail_sol', 'secondary_cleaner.output.tail_au',\n",
    "       'secondary_cleaner.state.floatbank2_a_air',\n",
    "       'secondary_cleaner.state.floatbank2_a_level',\n",
    "       'secondary_cleaner.state.floatbank2_b_air',\n",
    "       'secondary_cleaner.state.floatbank2_b_level',\n",
    "       'secondary_cleaner.state.floatbank3_a_air',\n",
    "       'secondary_cleaner.state.floatbank3_a_level',\n",
    "       'secondary_cleaner.state.floatbank3_b_air',\n",
    "       'secondary_cleaner.state.floatbank3_b_level',\n",
    "       'secondary_cleaner.state.floatbank4_a_air',\n",
    "       'secondary_cleaner.state.floatbank4_a_level',\n",
    "       'secondary_cleaner.state.floatbank4_b_air',\n",
    "       'secondary_cleaner.state.floatbank4_b_level',\n",
    "       'secondary_cleaner.state.floatbank5_a_air',\n",
    "       'secondary_cleaner.state.floatbank5_a_level',\n",
    "       'secondary_cleaner.state.floatbank5_b_air',\n",
    "       'secondary_cleaner.state.floatbank5_b_level',\n",
    "       'secondary_cleaner.state.floatbank6_a_air',\n",
    "       'secondary_cleaner.state.floatbank6_a_level'],axis=1)"
   ]
  },
  {
   "cell_type": "code",
   "execution_count": 391,
   "metadata": {},
   "outputs": [
    {
     "data": {
      "text/plain": [
       "Index(['primary_cleaner.output.concentrate_ag',\n",
       "       'primary_cleaner.output.concentrate_pb',\n",
       "       'primary_cleaner.output.concentrate_sol',\n",
       "       'primary_cleaner.output.concentrate_au'],\n",
       "      dtype='object')"
      ]
     },
     "execution_count": 391,
     "metadata": {},
     "output_type": "execute_result"
    }
   ],
   "source": [
    "features_f.columns"
   ]
  },
  {
   "cell_type": "markdown",
   "metadata": {},
   "source": [
    "###### Validación cruzada para final output recovery"
   ]
  },
  {
   "cell_type": "code",
   "execution_count": 392,
   "metadata": {},
   "outputs": [],
   "source": [
    "X_valid_f, X_train_f, Y_valid_f, Y_train_f = train_test_split(features_f, target_f, test_size=0.25, random_state=12345)"
   ]
  },
  {
   "cell_type": "code",
   "execution_count": 393,
   "metadata": {},
   "outputs": [
    {
     "name": "stdout",
     "output_type": "stream",
     "text": [
      "Media sMAPE: 2.184101351850182, max_depth = 1\n",
      "Media sMAPE: 2.1182440547339465, max_depth = 2\n",
      "Media sMAPE: 2.0753307970282555, max_depth = 3\n",
      "Media sMAPE: 2.0576378663280033, max_depth = 4\n",
      "Media sMAPE: 2.040324020440411, max_depth = 5\n",
      "Media sMAPE: 2.0322661402471125, max_depth = 6\n",
      "Media sMAPE: 2.0330677886456483, max_depth = 7\n",
      "Media sMAPE: 2.024379395497298, max_depth = 8\n",
      "Media sMAPE: 2.0339408736232025, max_depth = 9\n",
      "Media sMAPE: 2.0355429315537785, max_depth = 10\n"
     ]
    }
   ],
   "source": [
    "custom_scorer = make_scorer(sMAPE)\n",
    "for i in range(1, 11): # Variamos el rango de profundidad\n",
    "    fmodel = RandomForestRegressor(random_state=54321, max_depth=i, n_estimators=30)\n",
    "    fsmape = cross_val_score(fmodel, X_train_f, Y_train_f.to_numpy(), scoring=custom_scorer, cv=5)\n",
    "    fsmape_mean = fsmape.mean() # La media de los scores de cv es una estimación de la media del modelo\n",
    "    print(f'Media sMAPE: {fsmape_mean}, max_depth = {i}')"
   ]
  },
  {
   "cell_type": "code",
   "execution_count": 394,
   "metadata": {},
   "outputs": [
    {
     "name": "stdout",
     "output_type": "stream",
     "text": [
      "Media sMAPE: 2.2360610333212563, max_depth = 1\n",
      "Media sMAPE: 2.17167102431812, max_depth = 2\n",
      "Media sMAPE: 2.132111282596978, max_depth = 3\n",
      "Media sMAPE: 2.1243219257657846, max_depth = 4\n",
      "Media sMAPE: 2.1193672121449243, max_depth = 5\n",
      "Media sMAPE: 2.108482860557538, max_depth = 6\n",
      "Media sMAPE: 2.1140172571266813, max_depth = 7\n",
      "Media sMAPE: 2.1154320262698914, max_depth = 8\n",
      "Media sMAPE: 2.1185858533471817, max_depth = 9\n",
      "Media sMAPE: 2.1185858533471817, max_depth = 10\n"
     ]
    }
   ],
   "source": [
    "custom_scorer = make_scorer(sMAPE)\n",
    "for i in range(1, 11): # Variamos el rango de profundidad\n",
    "    fmodel = DecisionTreeRegressor(random_state=54321, max_depth=i, min_samples_leaf=50)\n",
    "    fsmape = cross_val_score(fmodel, X_train_f, Y_train_f.to_numpy(), scoring=custom_scorer, cv=5)\n",
    "    fsmape_mean = fsmape.mean() # La media de los scores de cv es una estimación de la media del modelo\n",
    "    print(f'Media sMAPE: {fsmape_mean}, max_depth = {i}')"
   ]
  },
  {
   "cell_type": "markdown",
   "metadata": {},
   "source": [
    "<div class=\"alert alert-block alert-danger\">\n",
    "<b>Comentario de Reviewer v2</b> <a class=\"tocSkip\"></a>\n",
    "\n",
    "Mismo comentario anterior\n",
    "</div>"
   ]
  },
  {
   "cell_type": "markdown",
   "metadata": {},
   "source": [
    "<div class=\"alert alert-block alert-info\">\n",
    "<b>Respuesta estudiante.</b> <a class=\"tocSkip\"></a>\n",
    "Al igual que para Rougher, aquí para Final. \n",
    "</div>"
   ]
  },
  {
   "cell_type": "markdown",
   "metadata": {},
   "source": [
    "<div class=\"alert alert-block alert-success\">\n",
    "<b>Comentario de Reviewer v4</b> <a class=\"tocSkip\"></a>\n",
    "\n",
    "Buen trabajo!\n",
    "</div>"
   ]
  },
  {
   "cell_type": "markdown",
   "metadata": {},
   "source": [
    "###### sMAPE final con datos de entrenamiento"
   ]
  },
  {
   "cell_type": "markdown",
   "metadata": {},
   "source": [
    "El mejor modelo para ambos indicadores individuales ha resultado ser RandomForestRegressor con profundidad de 8. Por lo que el cálculo del indicador final que contempla la suma de ambos se realizará con este mismo modelo y parámetro."
   ]
  },
  {
   "cell_type": "code",
   "execution_count": 395,
   "metadata": {},
   "outputs": [],
   "source": [
    "model_final_train = RandomForestRegressor(random_state=54321, max_depth=8, n_estimators=30)"
   ]
  },
  {
   "cell_type": "code",
   "execution_count": 396,
   "metadata": {},
   "outputs": [],
   "source": [
    "r_smape_final_train = cross_val_score(model_final_train, X_valid_r, Y_valid_r.to_numpy(), scoring=custom_scorer, cv=5)\n",
    "f_smape_final_train = cross_val_score(model_final_train, X_valid_f, Y_valid_f.to_numpy(), scoring=custom_scorer, cv=5)"
   ]
  },
  {
   "cell_type": "code",
   "execution_count": 397,
   "metadata": {
    "scrolled": true
   },
   "outputs": [
    {
     "name": "stdout",
     "output_type": "stream",
     "text": [
      "2.09\n"
     ]
    }
   ],
   "source": [
    "sMAPE_final_train = 0.25*r_smape_final_train.mean() + 0.75*f_smape_final_train.mean()\n",
    "print(round(sMAPE_final_train,2))"
   ]
  },
  {
   "cell_type": "markdown",
   "metadata": {},
   "source": [
    "<div class=\"alert alert-block alert-danger\">\n",
    "<b>Comentario de Reviewer</b> <a class=\"tocSkip\"></a>\n",
    "\n",
    "Aquí hay un error en el código, probablemente querías usar sMAPE\n",
    "</div>"
   ]
  },
  {
   "cell_type": "markdown",
   "metadata": {},
   "source": [
    "<div class=\"alert alert-block alert-info\">\n",
    "<b>Respuesta estudiante.</b> <a class=\"tocSkip\"></a>\n",
    "Se ha corregido el error de código declarando las variables antes de llamarlas.\n",
    "</div>"
   ]
  },
  {
   "cell_type": "markdown",
   "metadata": {},
   "source": [
    "<div class=\"alert alert-block alert-danger\">\n",
    "<b>Comentario de Reviewer</b> <a class=\"tocSkip\"></a>\n",
    "\n",
    "Corregiré lo demás una vez que se arregle la parte inicial.\n",
    "</div>"
   ]
  },
  {
   "cell_type": "markdown",
   "metadata": {},
   "source": [
    "<div class=\"alert alert-block alert-danger\">\n",
    "<b>Comentario de Reviewer v2</b> <a class=\"tocSkip\"></a>\n",
    "\n",
    "Ok, corregida la compilación, pero debes usar la métrica smape para escoger el mejor modelo, como comenté más arriba.\n",
    "</div>"
   ]
  },
  {
   "cell_type": "markdown",
   "metadata": {},
   "source": [
    "<div class=\"alert alert-block alert-info\">\n",
    "<b>Respuesta estudiante.</b> <a class=\"tocSkip\"></a>\n",
    "He intentado correr diferentes modelos y solamente LinearRegression puede correr. Los demás muestran el error: \n",
    "    ValueError: Unknown label type: 'continuous'\n",
    "</div>"
   ]
  },
  {
   "cell_type": "markdown",
   "metadata": {},
   "source": [
    "<div class=\"alert alert-block alert-danger\">\n",
    "<b>Comentario de Reviewer v3</b> <a class=\"tocSkip\"></a>\n",
    "\n",
    "Los que intentaste funcionan con variables discretas, intenta con DecisionTreeRegressor y/o  RandomForestRegressor.\n",
    "</div>\n"
   ]
  },
  {
   "cell_type": "markdown",
   "metadata": {},
   "source": [
    "<div class=\"alert alert-block alert-info\">\n",
    "<b>Respuesta estudiante.</b> <a class=\"tocSkip\"></a>\n",
    "Listo con la evaluación de ambos modelos y el cálculo del indicador final. \n",
    "</div>"
   ]
  },
  {
   "cell_type": "markdown",
   "metadata": {},
   "source": [
    "<div class=\"alert alert-block alert-success\">\n",
    "<b>Comentario de Reviewer v4</b> <a class=\"tocSkip\"></a>\n",
    "\n",
    "Correcto!\n",
    "</div>"
   ]
  },
  {
   "cell_type": "markdown",
   "metadata": {},
   "source": [
    "##### Prueba del modelo"
   ]
  },
  {
   "cell_type": "markdown",
   "metadata": {},
   "source": [
    "###### Cálculo para rougher con datos de prueba"
   ]
  },
  {
   "cell_type": "code",
   "execution_count": 398,
   "metadata": {},
   "outputs": [],
   "source": [
    "target_test_r = data_full['rougher.output.recovery']\n",
    "features_test_r = data_full.drop(['date', 'final.output.concentrate_ag', 'final.output.concentrate_pb',\n",
    "       'final.output.concentrate_sol', 'final.output.concentrate_au',\n",
    "       'final.output.recovery', 'final.output.tail_ag', 'final.output.tail_pb',\n",
    "       'final.output.tail_sol', 'final.output.tail_au',\n",
    "       'primary_cleaner.input.sulfate', 'primary_cleaner.input.depressant',\n",
    "       'primary_cleaner.input.feed_size', 'primary_cleaner.input.xanthate',\n",
    "       'primary_cleaner.output.concentrate_ag',\n",
    "       'primary_cleaner.output.concentrate_pb',\n",
    "       'primary_cleaner.output.concentrate_sol',\n",
    "       'primary_cleaner.output.concentrate_au',\n",
    "       'primary_cleaner.output.tail_ag', 'primary_cleaner.output.tail_pb',\n",
    "       'primary_cleaner.output.tail_sol', 'primary_cleaner.output.tail_au',\n",
    "       'primary_cleaner.state.floatbank8_a_air',\n",
    "       'primary_cleaner.state.floatbank8_a_level',\n",
    "       'primary_cleaner.state.floatbank8_b_air',\n",
    "       'primary_cleaner.state.floatbank8_b_level',\n",
    "       'primary_cleaner.state.floatbank8_c_air',\n",
    "       'primary_cleaner.state.floatbank8_c_level',\n",
    "       'primary_cleaner.state.floatbank8_d_air',\n",
    "       'primary_cleaner.state.floatbank8_d_level',\n",
    "       'rougher.calculation.sulfate_to_au_concentrate',\n",
    "       'rougher.calculation.floatbank10_sulfate_to_au_feed',\n",
    "       'rougher.calculation.floatbank11_sulfate_to_au_feed',\n",
    "       'rougher.calculation.au_pb_ratio', #'rougher.input.feed_ag',\n",
    "       #'rougher.input.feed_pb', 'rougher.input.feed_rate',\n",
    "       #'rougher.input.feed_size', 'rougher.input.feed_sol',\n",
    "       #'rougher.input.feed_au', \n",
    "       'rougher.input.floatbank10_sulfate',\n",
    "       'rougher.input.floatbank10_xanthate',\n",
    "       'rougher.input.floatbank11_sulfate',\n",
    "       'rougher.input.floatbank11_xanthate', 'rougher.output.concentrate_ag',\n",
    "       'rougher.output.concentrate_pb', 'rougher.output.concentrate_sol',\n",
    "       'rougher.output.concentrate_au', 'rougher.output.recovery',\n",
    "       'rougher.output.tail_ag', 'rougher.output.tail_pb',\n",
    "       'rougher.output.tail_sol', 'rougher.output.tail_au',\n",
    "       'rougher.state.floatbank10_a_air', 'rougher.state.floatbank10_a_level',\n",
    "       'rougher.state.floatbank10_b_air', 'rougher.state.floatbank10_b_level',\n",
    "       'rougher.state.floatbank10_c_air', 'rougher.state.floatbank10_c_level',\n",
    "       'rougher.state.floatbank10_d_air', 'rougher.state.floatbank10_d_level',\n",
    "       'rougher.state.floatbank10_e_air', 'rougher.state.floatbank10_e_level',\n",
    "       'rougher.state.floatbank10_f_air', 'rougher.state.floatbank10_f_level',\n",
    "       'secondary_cleaner.output.tail_ag', 'secondary_cleaner.output.tail_pb',\n",
    "       'secondary_cleaner.output.tail_sol', 'secondary_cleaner.output.tail_au',\n",
    "       'secondary_cleaner.state.floatbank2_a_air',\n",
    "       'secondary_cleaner.state.floatbank2_a_level',\n",
    "       'secondary_cleaner.state.floatbank2_b_air',\n",
    "       'secondary_cleaner.state.floatbank2_b_level',\n",
    "       'secondary_cleaner.state.floatbank3_a_air',\n",
    "       'secondary_cleaner.state.floatbank3_a_level',\n",
    "       'secondary_cleaner.state.floatbank3_b_air',\n",
    "       'secondary_cleaner.state.floatbank3_b_level',\n",
    "       'secondary_cleaner.state.floatbank4_a_air',\n",
    "       'secondary_cleaner.state.floatbank4_a_level',\n",
    "       'secondary_cleaner.state.floatbank4_b_air',\n",
    "       'secondary_cleaner.state.floatbank4_b_level',\n",
    "       'secondary_cleaner.state.floatbank5_a_air',\n",
    "       'secondary_cleaner.state.floatbank5_a_level',\n",
    "       'secondary_cleaner.state.floatbank5_b_air',\n",
    "       'secondary_cleaner.state.floatbank5_b_level',\n",
    "       'secondary_cleaner.state.floatbank6_a_air',\n",
    "       'secondary_cleaner.state.floatbank6_a_level'], axis=1)"
   ]
  },
  {
   "cell_type": "code",
   "execution_count": 411,
   "metadata": {
    "scrolled": true
   },
   "outputs": [
    {
     "data": {
      "text/plain": [
       "Index(['rougher.input.feed_ag', 'rougher.input.feed_pb',\n",
       "       'rougher.input.feed_rate', 'rougher.input.feed_size',\n",
       "       'rougher.input.feed_sol', 'rougher.input.feed_au'],\n",
       "      dtype='object')"
      ]
     },
     "execution_count": 411,
     "metadata": {},
     "output_type": "execute_result"
    }
   ],
   "source": [
    "features_test_r.columns"
   ]
  },
  {
   "cell_type": "code",
   "execution_count": 412,
   "metadata": {},
   "outputs": [],
   "source": [
    "X_test_tr, X_train_tr, Y_test_tr, Y_train_tr = train_test_split(features_test_r, target_test_r, test_size=0.25, random_state=12345)"
   ]
  },
  {
   "cell_type": "code",
   "execution_count": 413,
   "metadata": {},
   "outputs": [
    {
     "name": "stdout",
     "output_type": "stream",
     "text": [
      "Media sMAPE: 2.3838636608798227, max_depth = 1\n",
      "Media sMAPE: 2.294004720814637, max_depth = 2\n",
      "Media sMAPE: 2.2774400955307463, max_depth = 3\n",
      "Media sMAPE: 2.277047189860722, max_depth = 4\n",
      "Media sMAPE: 2.2811651190575786, max_depth = 5\n",
      "Media sMAPE: 2.281740665610806, max_depth = 6\n",
      "Media sMAPE: 2.27361308338107, max_depth = 7\n",
      "Media sMAPE: 2.2798366614926904, max_depth = 8\n",
      "Media sMAPE: 2.2818537099268807, max_depth = 9\n",
      "Media sMAPE: 2.272571236296998, max_depth = 10\n"
     ]
    }
   ],
   "source": [
    "custom_scorer = make_scorer(sMAPE)\n",
    "for i in range(1, 11): \n",
    "    r_model = RandomForestRegressor(random_state=54321, max_depth=i, n_estimators=30)\n",
    "    r_smape = cross_val_score(r_model, X_train_tr, Y_train_tr.to_numpy(), scoring=custom_scorer, cv=5)\n",
    "    r_smape_mean = r_smape.mean() \n",
    "    print(f'Media sMAPE: {r_smape_mean}, max_depth = {i}')"
   ]
  },
  {
   "cell_type": "code",
   "execution_count": 414,
   "metadata": {},
   "outputs": [
    {
     "name": "stdout",
     "output_type": "stream",
     "text": [
      "Media sMAPE: 2.3955479038121466, max_depth = 1\n",
      "Media sMAPE: 2.3510297323871674, max_depth = 2\n",
      "Media sMAPE: 2.3587125532239335, max_depth = 3\n",
      "Media sMAPE: 2.3444279623692745, max_depth = 4\n",
      "Media sMAPE: 2.3657374328982335, max_depth = 5\n",
      "Media sMAPE: 2.366689663303226, max_depth = 6\n",
      "Media sMAPE: 2.3440131934871697, max_depth = 7\n",
      "Media sMAPE: 2.3491355120106308, max_depth = 8\n",
      "Media sMAPE: 2.3402581108958023, max_depth = 9\n",
      "Media sMAPE: 2.3476360804233734, max_depth = 10\n"
     ]
    }
   ],
   "source": [
    "custom_scorer = make_scorer(sMAPE)\n",
    "for i in range(1, 11): \n",
    "    r_model = DecisionTreeRegressor(random_state=54321, max_depth=i, min_samples_leaf=50)\n",
    "    r_smape = cross_val_score(r_model, X_train_tr, Y_train_tr.to_numpy(), scoring=custom_scorer, cv=5)\n",
    "    r_smape_mean = r_smape.mean() \n",
    "    print(f'Media sMAPE: {r_smape_mean}, max_depth = {i}')"
   ]
  },
  {
   "cell_type": "markdown",
   "metadata": {},
   "source": [
    "<div class=\"alert alert-block alert-danger\">\n",
    "<b>Comentario de Reviewer v2</b> <a class=\"tocSkip\"></a>\n",
    "\n",
    "Ojo, lo que hiciste aquí fue entrenar un modelo y testearlo con la misma data, eso sobreestima la precisión del modelo. En la parte anterior, mediante validación cruzada, debes obtener el  mejor modelo (sus parámetros, por ejemplo de un árbol de decisión su profundidad y maximo de nodos), aquel que tuvo mejor score. Luego con ese modelo, entrenado con las features de train, debes predecir usando las features de test y comparar ese resultado con targets de test.\n",
    "    \n",
    "</div>"
   ]
  },
  {
   "cell_type": "markdown",
   "metadata": {},
   "source": [
    "<div class=\"alert alert-block alert-info\">\n",
    "<b>Respuesta estudiante.</b> <a class=\"tocSkip\"></a>\n",
    "Listo, he utilizado el modelo de LinearRegression entrenado con features de train (X_train_tr) y haciendo validación cruzada con features de test (X_test_tr), y targets de test (Y_test_tr).\n",
    "</div>"
   ]
  },
  {
   "cell_type": "markdown",
   "metadata": {},
   "source": [
    "<div class=\"alert alert-block alert-danger\">\n",
    "<b>Comentario de Reviewer v3</b> <a class=\"tocSkip\"></a>\n",
    "\n",
    "Es más simple de lo que intentaste, no es necesario dividir la data en ningún momento. La gracia de la validación cruzada es que la data de train se utiliza como train y como validación a la vez (o al menos subconjuntos de la data). Entonces si particionamos la data en un inicio, una parte la podemos usar con train para validación cruzada y la otra parte quedaría para el test final. Esa partición ya está hecha, con la tabla data_train y data_test. Ahoora, si quieres hacerla tú mismo a partir de data_full, también está bien, puedes hacerlo así:\n",
    "    \n",
    "    X_test_r, X_train_r, Y_test_r, Y_train_r = train_test_split(features_r, target_r, test_size=0.25, random_state=12345)\n",
    "    X_test_f, X_train_f, Y_test_f, Y_train_f = train_test_split(features_f, target_f, test_size=0.25, random_state=12345)\n",
    "    \n",
    "Es lo mismo que hiciste arriba, solamente que ahora solo tendrás ese par de conjuntos de train y test para rougher y final. Los modelos los haces con X_train e Y_train, entrenando y validando a la vez con la metodología de validación cruzada. De todos los modelos se escoge el mejor y luego con X_test e Y_test,  obtienes una última medida del error del mejor modelo escogido.\n",
    "    \n",
    "</div>"
   ]
  },
  {
   "cell_type": "markdown",
   "metadata": {},
   "source": [
    "<div class=\"alert alert-block alert-info\">\n",
    "<b>Respuesta estudiante.</b> <a class=\"tocSkip\"></a>\n",
    "Entendido, he simplificado la división de conjuntos y realizado la evaluación de los dos modelos recomendados utilizando datos de entrenamiento.\n",
    "</div>"
   ]
  },
  {
   "cell_type": "markdown",
   "metadata": {},
   "source": [
    "<div class=\"alert alert-block alert-success\">\n",
    "<b>Comentario de Reviewer v4</b> <a class=\"tocSkip\"></a>\n",
    "\n",
    "Muy bien!\n",
    "</div>"
   ]
  },
  {
   "cell_type": "markdown",
   "metadata": {},
   "source": [
    "###### Cálculo para final con datos de prueba"
   ]
  },
  {
   "cell_type": "code",
   "execution_count": 415,
   "metadata": {},
   "outputs": [],
   "source": [
    "target_test_f = data_full['final.output.recovery']\n",
    "features_test_f = data_full.drop(['date', 'final.output.concentrate_ag', 'final.output.concentrate_pb',\n",
    "       'final.output.concentrate_sol', 'final.output.concentrate_au',\n",
    "       'final.output.recovery', 'final.output.tail_ag', 'final.output.tail_pb',\n",
    "       'final.output.tail_sol', 'final.output.tail_au',\n",
    "       'primary_cleaner.input.sulfate', 'primary_cleaner.input.depressant',\n",
    "       'primary_cleaner.input.feed_size', 'primary_cleaner.input.xanthate',\n",
    "       #'primary_cleaner.output.concentrate_ag',\n",
    "       #'primary_cleaner.output.concentrate_pb',\n",
    "       #'primary_cleaner.output.concentrate_sol',\n",
    "       #'primary_cleaner.output.concentrate_au',\n",
    "       'primary_cleaner.output.tail_ag', 'primary_cleaner.output.tail_pb',\n",
    "       'primary_cleaner.output.tail_sol', 'primary_cleaner.output.tail_au',\n",
    "       'primary_cleaner.state.floatbank8_a_air',\n",
    "       'primary_cleaner.state.floatbank8_a_level',\n",
    "       'primary_cleaner.state.floatbank8_b_air',\n",
    "       'primary_cleaner.state.floatbank8_b_level',\n",
    "       'primary_cleaner.state.floatbank8_c_air',\n",
    "       'primary_cleaner.state.floatbank8_c_level',\n",
    "       'primary_cleaner.state.floatbank8_d_air',\n",
    "       'primary_cleaner.state.floatbank8_d_level',\n",
    "       'rougher.calculation.sulfate_to_au_concentrate',\n",
    "       'rougher.calculation.floatbank10_sulfate_to_au_feed',\n",
    "       'rougher.calculation.floatbank11_sulfate_to_au_feed',\n",
    "       'rougher.calculation.au_pb_ratio', 'rougher.input.feed_ag',\n",
    "       'rougher.input.feed_pb', 'rougher.input.feed_rate',\n",
    "       'rougher.input.feed_size', 'rougher.input.feed_sol',\n",
    "       'rougher.input.feed_au', \n",
    "       'rougher.input.floatbank10_sulfate',\n",
    "       'rougher.input.floatbank10_xanthate',\n",
    "       'rougher.input.floatbank11_sulfate',\n",
    "       'rougher.input.floatbank11_xanthate', 'rougher.output.concentrate_ag',\n",
    "       'rougher.output.concentrate_pb', 'rougher.output.concentrate_sol',\n",
    "       'rougher.output.concentrate_au', 'rougher.output.recovery',\n",
    "       'rougher.output.tail_ag', 'rougher.output.tail_pb',\n",
    "       'rougher.output.tail_sol', 'rougher.output.tail_au',\n",
    "       'rougher.state.floatbank10_a_air', 'rougher.state.floatbank10_a_level',\n",
    "       'rougher.state.floatbank10_b_air', 'rougher.state.floatbank10_b_level',\n",
    "       'rougher.state.floatbank10_c_air', 'rougher.state.floatbank10_c_level',\n",
    "       'rougher.state.floatbank10_d_air', 'rougher.state.floatbank10_d_level',\n",
    "       'rougher.state.floatbank10_e_air', 'rougher.state.floatbank10_e_level',\n",
    "       'rougher.state.floatbank10_f_air', 'rougher.state.floatbank10_f_level',\n",
    "       'secondary_cleaner.output.tail_ag', 'secondary_cleaner.output.tail_pb',\n",
    "       'secondary_cleaner.output.tail_sol', 'secondary_cleaner.output.tail_au',\n",
    "       'secondary_cleaner.state.floatbank2_a_air',\n",
    "       'secondary_cleaner.state.floatbank2_a_level',\n",
    "       'secondary_cleaner.state.floatbank2_b_air',\n",
    "       'secondary_cleaner.state.floatbank2_b_level',\n",
    "       'secondary_cleaner.state.floatbank3_a_air',\n",
    "       'secondary_cleaner.state.floatbank3_a_level',\n",
    "       'secondary_cleaner.state.floatbank3_b_air',\n",
    "       'secondary_cleaner.state.floatbank3_b_level',\n",
    "       'secondary_cleaner.state.floatbank4_a_air',\n",
    "       'secondary_cleaner.state.floatbank4_a_level',\n",
    "       'secondary_cleaner.state.floatbank4_b_air',\n",
    "       'secondary_cleaner.state.floatbank4_b_level',\n",
    "       'secondary_cleaner.state.floatbank5_a_air',\n",
    "       'secondary_cleaner.state.floatbank5_a_level',\n",
    "       'secondary_cleaner.state.floatbank5_b_air',\n",
    "       'secondary_cleaner.state.floatbank5_b_level',\n",
    "       'secondary_cleaner.state.floatbank6_a_air',\n",
    "       'secondary_cleaner.state.floatbank6_a_level'], axis=1)"
   ]
  },
  {
   "cell_type": "code",
   "execution_count": 416,
   "metadata": {},
   "outputs": [
    {
     "data": {
      "text/plain": [
       "Index(['primary_cleaner.output.concentrate_ag',\n",
       "       'primary_cleaner.output.concentrate_pb',\n",
       "       'primary_cleaner.output.concentrate_sol',\n",
       "       'primary_cleaner.output.concentrate_au'],\n",
       "      dtype='object')"
      ]
     },
     "execution_count": 416,
     "metadata": {},
     "output_type": "execute_result"
    }
   ],
   "source": [
    "features_test_f.columns"
   ]
  },
  {
   "cell_type": "code",
   "execution_count": 417,
   "metadata": {},
   "outputs": [],
   "source": [
    "X_test_tf, X_train_tf, Y_test_tf, Y_train_tf = train_test_split(features_test_f, target_test_f, test_size=0.25, random_state=12345)"
   ]
  },
  {
   "cell_type": "code",
   "execution_count": 423,
   "metadata": {
    "scrolled": true
   },
   "outputs": [
    {
     "name": "stdout",
     "output_type": "stream",
     "text": [
      "Media sMAPE: 2.1860651648683214, max_depth = 1\n",
      "Media sMAPE: 2.1282317300282116, max_depth = 2\n",
      "Media sMAPE: 2.109179488727894, max_depth = 3\n",
      "Media sMAPE: 2.0934961285682214, max_depth = 4\n",
      "Media sMAPE: 2.087522004368491, max_depth = 5\n",
      "Media sMAPE: 2.082974688051537, max_depth = 6\n",
      "Media sMAPE: 2.087163210374979, max_depth = 7\n",
      "Media sMAPE: 2.093407577053452, max_depth = 8\n",
      "Media sMAPE: 2.100756574614072, max_depth = 9\n",
      "Media sMAPE: 2.105722683832636, max_depth = 10\n"
     ]
    }
   ],
   "source": [
    "custom_scorer = make_scorer(sMAPE)\n",
    "for i in range(1, 11): # Variamos el rango de profundidad\n",
    "    f_model = RandomForestRegressor(random_state=54321, max_depth=i, n_estimators=30)\n",
    "    f_smape = cross_val_score(f_model, X_train_tf, Y_train_tf.to_numpy(), scoring=custom_scorer, cv=5)\n",
    "    f_smape_mean = f_smape.mean() # La media de los scores de cv es una estimación de la media del modelo\n",
    "    print(f'Media sMAPE: {f_smape_mean}, max_depth = {i}')"
   ]
  },
  {
   "cell_type": "code",
   "execution_count": 419,
   "metadata": {},
   "outputs": [
    {
     "name": "stdout",
     "output_type": "stream",
     "text": [
      "Media sMAPE: 2.230180148823705, max_depth = 1\n",
      "Media sMAPE: 2.1813346384685444, max_depth = 2\n",
      "Media sMAPE: 2.153593495157153, max_depth = 3\n",
      "Media sMAPE: 2.1352851407175493, max_depth = 4\n",
      "Media sMAPE: 2.1513617581872553, max_depth = 5\n",
      "Media sMAPE: 2.1552400549180724, max_depth = 6\n",
      "Media sMAPE: 2.1584427146720158, max_depth = 7\n",
      "Media sMAPE: 2.15985785659288, max_depth = 8\n",
      "Media sMAPE: 2.1622881114436763, max_depth = 9\n",
      "Media sMAPE: 2.1682610002471177, max_depth = 10\n"
     ]
    }
   ],
   "source": [
    "custom_scorer = make_scorer(sMAPE)\n",
    "for i in range(1, 11): \n",
    "    f_model = DecisionTreeRegressor(random_state=54321, max_depth=i, min_samples_leaf=50)\n",
    "    f_smape = cross_val_score(f_model, X_train_tf, Y_train_tf.to_numpy(), scoring=custom_scorer, cv=5)\n",
    "    f_smape_mean = f_smape.mean() \n",
    "    print(f'Media sMAPE: {f_smape_mean}, max_depth = {i}')"
   ]
  },
  {
   "cell_type": "markdown",
   "metadata": {},
   "source": [
    "<div class=\"alert alert-block alert-danger\">\n",
    "<b>Comentario de Reviewer v2</b> <a class=\"tocSkip\"></a>\n",
    "\n",
    "Mismo comentario anterior, debes entrenar el modelo con las features de train, predecir con features de test y comparar ese resultado con targets de test.\n",
    "</div>"
   ]
  },
  {
   "cell_type": "markdown",
   "metadata": {},
   "source": [
    "<div class=\"alert alert-block alert-info\">\n",
    "<b>Respuesta estudiante.</b> <a class=\"tocSkip\"></a>\n",
    "Mismo caso que para rougher, ya está lista la evaluación del indicador con la validación cruzada usando los datos de entrenamiento.\n",
    "</div>"
   ]
  },
  {
   "cell_type": "markdown",
   "metadata": {},
   "source": [
    "<div class=\"alert alert-block alert-success\">\n",
    "<b>Comentario de Reviewer v4</b> <a class=\"tocSkip\"></a>\n",
    "\n",
    "Correcto!\n",
    "</div>"
   ]
  },
  {
   "cell_type": "markdown",
   "metadata": {},
   "source": [
    "###### sMAPE final con datos de prueba"
   ]
  },
  {
   "cell_type": "markdown",
   "metadata": {},
   "source": [
    "El mejor modelo para ambos indicadores individuales ha resultado ser RandomForestRegressor con profundidad de 6 y 7 respectivamente. Por lo tanto, el cálculo del indicador final se realizará con este mismo modelo y probando ambos parámetros."
   ]
  },
  {
   "cell_type": "code",
   "execution_count": 427,
   "metadata": {},
   "outputs": [],
   "source": [
    "model_final_test = RandomForestRegressor(random_state=54321, max_depth=7, n_estimators=30)"
   ]
  },
  {
   "cell_type": "code",
   "execution_count": 428,
   "metadata": {},
   "outputs": [],
   "source": [
    "r_smape_final_test = cross_val_score(model_final_test, X_test_tr, Y_test_tr.to_numpy(), scoring=custom_scorer, cv=5)\n",
    "f_smape_final_test = cross_val_score(model_final_test, X_test_tf, Y_test_tf.to_numpy(), scoring=custom_scorer, cv=5)"
   ]
  },
  {
   "cell_type": "code",
   "execution_count": 429,
   "metadata": {},
   "outputs": [
    {
     "name": "stdout",
     "output_type": "stream",
     "text": [
      "2.01\n"
     ]
    }
   ],
   "source": [
    "sMAPE_final_test = 0.25*r_smape_final_test.mean() + 0.75*f_smape_final_test.mean()\n",
    "print(round(sMAPE_final_test,2))"
   ]
  },
  {
   "cell_type": "markdown",
   "metadata": {},
   "source": [
    "<div class=\"alert alert-block alert-success\">\n",
    "<b>Comentario de Reviewer v4</b> <a class=\"tocSkip\"></a>\n",
    "\n",
    "Buen trabajo!\n",
    "</div>"
   ]
  },
  {
   "cell_type": "markdown",
   "metadata": {},
   "source": [
    "#### Conclusiones"
   ]
  },
  {
   "cell_type": "markdown",
   "metadata": {},
   "source": [
    "- Se eliminaron el 35% de datos del archivo \"gold_recovery_train\" para evitar datos ausentes. (de 16860 a 11017).\n",
    "- Se eliminaron el 9% de datos del archivo \"gold_recovery_test\" para evitar datos ausentes. (de 5856 a 5383).\n",
    "- Se eliminaron el 30% de datos del archivo \"gold_recovery_full\" para evitar datos ausentes. (de 22716 a 16094).\n",
    "- Se calculó el parámetro de recuperación con el archivo de entrenamiento y se comparó con el target \"rougher.output.recovery\" obteniendo una MAE de 10.98.\n",
    "\n",
    "\n",
    "- Se comparó la distribución de tamaño de partículas por etapas en el archivo de entrenamiento obteniendo los siguientes resultados en la media:\n",
    "\n",
    "    - Plata\n",
    "        - entrada rougher: 8.76\n",
    "        - salida rougher: 12.03\n",
    "        - salida cleaner: 8.51\n",
    "        - final: 5.07\n",
    "    - Oro\n",
    "        - entrada rougher: 8.12\n",
    "        - salida rougher: 20.35\n",
    "        - salida cleaner: 33.23\n",
    "        - final: 44.75\n",
    "\n",
    "    - Plomo\n",
    "        - entrada rougher: 3.55\n",
    "        - salida rougher: 7.75\n",
    "        - salida cleaner: 9.71\n",
    "        - final: 10.25\n",
    "\n",
    "- Se comparó la distribución de tamaño de partículas de alimentación en el archivo de entrenamiento y prueba obteniendo los siguientes resultados en la media:\n",
    "\n",
    "    - Plata\n",
    "        - entrenamiento 8.77\n",
    "        - prueba 9.32\n",
    "    - Oro\n",
    "        - entrenamiento 8.11\n",
    "        - prueba 9.29\n",
    "\n",
    "    - Plomo\n",
    "        - entrenamiento 3.55\n",
    "        - prueba 3.79\n",
    "\n",
    "- Se creó una función para calcular sMAPE con las entradas de target y predicción.\n",
    "\n",
    "- Se realizó el entrenamiento de modelos para rougher y final utilizando el dataframe de datos de entrenamiento. Se hizo la división de grupos de datos de entrenamiento y validación. Y se realizó el cálculo de indicador con validación cruzada. El modelo con mejor indicador resultó RandomForestRegressor con profundidad de 8 tanto para rougher como para final. El sMAPE final fue de 2.09.\n",
    "\n",
    "- Finalmente se realizó la prueba de modelos para rougher y final utilizando el dataframe de datos full. Se hizo la división de grupos de datos de entrenamiento y prueba. Y se realizó el cálculo de indicador con validación cruzada. El modelo con mejor indicador resultó RandomForestRegressor con profundidad de 6 y 7 respectivamente para rougher y para final. El sMAPE final fue de 2.01."
   ]
  },
  {
   "cell_type": "code",
   "execution_count": null,
   "metadata": {},
   "outputs": [],
   "source": []
  }
 ],
 "metadata": {
  "kernelspec": {
   "display_name": "Python 3 (ipykernel)",
   "language": "python",
   "name": "python3"
  },
  "language_info": {
   "codemirror_mode": {
    "name": "ipython",
    "version": 3
   },
   "file_extension": ".py",
   "mimetype": "text/x-python",
   "name": "python",
   "nbconvert_exporter": "python",
   "pygments_lexer": "ipython3",
   "version": "3.9.5"
  },
  "toc": {
   "base_numbering": 1,
   "nav_menu": {},
   "number_sections": true,
   "sideBar": true,
   "skip_h1_title": true,
   "title_cell": "Table of Contents",
   "title_sidebar": "Contents",
   "toc_cell": false,
   "toc_position": {},
   "toc_section_display": true,
   "toc_window_display": false
  }
 },
 "nbformat": 4,
 "nbformat_minor": 2
}
